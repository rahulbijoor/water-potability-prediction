{
 "cells": [
  {
   "cell_type": "code",
   "execution_count": 1,
   "id": "7eb5181c",
   "metadata": {
    "_cell_guid": "b1076dfc-b9ad-4769-8c92-a6c4dae69d19",
    "_uuid": "8f2839f25d086af736a60e9eeb907d3b93b6e0e5",
    "execution": {
     "iopub.execute_input": "2023-12-24T21:04:33.119003Z",
     "iopub.status.busy": "2023-12-24T21:04:33.118686Z",
     "iopub.status.idle": "2023-12-24T21:04:33.417554Z",
     "shell.execute_reply": "2023-12-24T21:04:33.416067Z"
    },
    "papermill": {
     "duration": 0.308846,
     "end_time": "2023-12-24T21:04:33.419582",
     "exception": false,
     "start_time": "2023-12-24T21:04:33.110736",
     "status": "completed"
    },
    "tags": []
   },
   "outputs": [
    {
     "name": "stdout",
     "output_type": "stream",
     "text": [
      "/kaggle/input/water-potability/water_potability.csv\n"
     ]
    }
   ],
   "source": [
    "# This Python 3 environment comes with many helpful analytics libraries installed\n",
    "# It is defined by the kaggle/python Docker image: https://github.com/kaggle/docker-python\n",
    "# For example, here's several helpful packages to load\n",
    "\n",
    "import numpy as np # linear algebra\n",
    "import pandas as pd # data processing, CSV file I/O (e.g. pd.read_csv)\n",
    "\n",
    "# Input data files are available in the read-only \"../input/\" directory\n",
    "# For example, running this (by clicking run or pressing Shift+Enter) will list all files under the input directory\n",
    "\n",
    "import os\n",
    "for dirname, _, filenames in os.walk('/kaggle/input'):\n",
    "    for filename in filenames:\n",
    "        print(os.path.join(dirname, filename))\n",
    "\n",
    "# You can write up to 20GB to the current directory (/kaggle/working/) that gets preserved as output when you create a version using \"Save & Run All\" \n",
    "# You can also write temporary files to /kaggle/temp/, but they won't be saved outside of the current session"
   ]
  },
  {
   "cell_type": "code",
   "execution_count": 2,
   "id": "5bec6c64",
   "metadata": {
    "execution": {
     "iopub.execute_input": "2023-12-24T21:04:33.434013Z",
     "iopub.status.busy": "2023-12-24T21:04:33.433525Z",
     "iopub.status.idle": "2023-12-24T21:04:34.528603Z",
     "shell.execute_reply": "2023-12-24T21:04:34.527633Z"
    },
    "papermill": {
     "duration": 1.104861,
     "end_time": "2023-12-24T21:04:34.530882",
     "exception": false,
     "start_time": "2023-12-24T21:04:33.426021",
     "status": "completed"
    },
    "tags": []
   },
   "outputs": [],
   "source": [
    "import seaborn as sns\n",
    "import matplotlib.pyplot as plt"
   ]
  },
  {
   "cell_type": "code",
   "execution_count": 3,
   "id": "965c3e76",
   "metadata": {
    "execution": {
     "iopub.execute_input": "2023-12-24T21:04:34.544365Z",
     "iopub.status.busy": "2023-12-24T21:04:34.544036Z",
     "iopub.status.idle": "2023-12-24T21:04:34.594621Z",
     "shell.execute_reply": "2023-12-24T21:04:34.593314Z"
    },
    "papermill": {
     "duration": 0.059772,
     "end_time": "2023-12-24T21:04:34.596966",
     "exception": false,
     "start_time": "2023-12-24T21:04:34.537194",
     "status": "completed"
    },
    "tags": []
   },
   "outputs": [
    {
     "data": {
      "text/html": [
       "<div>\n",
       "<style scoped>\n",
       "    .dataframe tbody tr th:only-of-type {\n",
       "        vertical-align: middle;\n",
       "    }\n",
       "\n",
       "    .dataframe tbody tr th {\n",
       "        vertical-align: top;\n",
       "    }\n",
       "\n",
       "    .dataframe thead th {\n",
       "        text-align: right;\n",
       "    }\n",
       "</style>\n",
       "<table border=\"1\" class=\"dataframe\">\n",
       "  <thead>\n",
       "    <tr style=\"text-align: right;\">\n",
       "      <th></th>\n",
       "      <th>ph</th>\n",
       "      <th>Hardness</th>\n",
       "      <th>Solids</th>\n",
       "      <th>Chloramines</th>\n",
       "      <th>Sulfate</th>\n",
       "      <th>Conductivity</th>\n",
       "      <th>Organic_carbon</th>\n",
       "      <th>Trihalomethanes</th>\n",
       "      <th>Turbidity</th>\n",
       "      <th>Potability</th>\n",
       "    </tr>\n",
       "  </thead>\n",
       "  <tbody>\n",
       "    <tr>\n",
       "      <th>0</th>\n",
       "      <td>NaN</td>\n",
       "      <td>204.890455</td>\n",
       "      <td>20791.318981</td>\n",
       "      <td>7.300212</td>\n",
       "      <td>368.516441</td>\n",
       "      <td>564.308654</td>\n",
       "      <td>10.379783</td>\n",
       "      <td>86.990970</td>\n",
       "      <td>2.963135</td>\n",
       "      <td>0</td>\n",
       "    </tr>\n",
       "    <tr>\n",
       "      <th>1</th>\n",
       "      <td>3.716080</td>\n",
       "      <td>129.422921</td>\n",
       "      <td>18630.057858</td>\n",
       "      <td>6.635246</td>\n",
       "      <td>NaN</td>\n",
       "      <td>592.885359</td>\n",
       "      <td>15.180013</td>\n",
       "      <td>56.329076</td>\n",
       "      <td>4.500656</td>\n",
       "      <td>0</td>\n",
       "    </tr>\n",
       "    <tr>\n",
       "      <th>2</th>\n",
       "      <td>8.099124</td>\n",
       "      <td>224.236259</td>\n",
       "      <td>19909.541732</td>\n",
       "      <td>9.275884</td>\n",
       "      <td>NaN</td>\n",
       "      <td>418.606213</td>\n",
       "      <td>16.868637</td>\n",
       "      <td>66.420093</td>\n",
       "      <td>3.055934</td>\n",
       "      <td>0</td>\n",
       "    </tr>\n",
       "    <tr>\n",
       "      <th>3</th>\n",
       "      <td>8.316766</td>\n",
       "      <td>214.373394</td>\n",
       "      <td>22018.417441</td>\n",
       "      <td>8.059332</td>\n",
       "      <td>356.886136</td>\n",
       "      <td>363.266516</td>\n",
       "      <td>18.436524</td>\n",
       "      <td>100.341674</td>\n",
       "      <td>4.628771</td>\n",
       "      <td>0</td>\n",
       "    </tr>\n",
       "    <tr>\n",
       "      <th>4</th>\n",
       "      <td>9.092223</td>\n",
       "      <td>181.101509</td>\n",
       "      <td>17978.986339</td>\n",
       "      <td>6.546600</td>\n",
       "      <td>310.135738</td>\n",
       "      <td>398.410813</td>\n",
       "      <td>11.558279</td>\n",
       "      <td>31.997993</td>\n",
       "      <td>4.075075</td>\n",
       "      <td>0</td>\n",
       "    </tr>\n",
       "  </tbody>\n",
       "</table>\n",
       "</div>"
      ],
      "text/plain": [
       "         ph    Hardness        Solids  Chloramines     Sulfate  Conductivity  \\\n",
       "0       NaN  204.890455  20791.318981     7.300212  368.516441    564.308654   \n",
       "1  3.716080  129.422921  18630.057858     6.635246         NaN    592.885359   \n",
       "2  8.099124  224.236259  19909.541732     9.275884         NaN    418.606213   \n",
       "3  8.316766  214.373394  22018.417441     8.059332  356.886136    363.266516   \n",
       "4  9.092223  181.101509  17978.986339     6.546600  310.135738    398.410813   \n",
       "\n",
       "   Organic_carbon  Trihalomethanes  Turbidity  Potability  \n",
       "0       10.379783        86.990970   2.963135           0  \n",
       "1       15.180013        56.329076   4.500656           0  \n",
       "2       16.868637        66.420093   3.055934           0  \n",
       "3       18.436524       100.341674   4.628771           0  \n",
       "4       11.558279        31.997993   4.075075           0  "
      ]
     },
     "execution_count": 3,
     "metadata": {},
     "output_type": "execute_result"
    }
   ],
   "source": [
    "data = pd.read_csv(\"/kaggle/input/water-potability/water_potability.csv\")\n",
    "data.head()"
   ]
  },
  {
   "cell_type": "markdown",
   "id": "3d44c71c",
   "metadata": {
    "papermill": {
     "duration": 0.005793,
     "end_time": "2023-12-24T21:04:34.609211",
     "exception": false,
     "start_time": "2023-12-24T21:04:34.603418",
     "status": "completed"
    },
    "tags": []
   },
   "source": [
    "# **Step 1: Exploratory Data Analysis**\n",
    " "
   ]
  },
  {
   "cell_type": "markdown",
   "id": "abb151c3",
   "metadata": {
    "papermill": {
     "duration": 0.005671,
     "end_time": "2023-12-24T21:04:34.620924",
     "exception": false,
     "start_time": "2023-12-24T21:04:34.615253",
     "status": "completed"
    },
    "tags": []
   },
   "source": [
    "info() function gives the summary of the columns in the dataset."
   ]
  },
  {
   "cell_type": "code",
   "execution_count": 4,
   "id": "769d8ef7",
   "metadata": {
    "execution": {
     "iopub.execute_input": "2023-12-24T21:04:34.634705Z",
     "iopub.status.busy": "2023-12-24T21:04:34.634115Z",
     "iopub.status.idle": "2023-12-24T21:04:34.722146Z",
     "shell.execute_reply": "2023-12-24T21:04:34.721280Z"
    },
    "papermill": {
     "duration": 0.097563,
     "end_time": "2023-12-24T21:04:34.724469",
     "exception": false,
     "start_time": "2023-12-24T21:04:34.626906",
     "status": "completed"
    },
    "tags": []
   },
   "outputs": [
    {
     "name": "stdout",
     "output_type": "stream",
     "text": [
      "<class 'pandas.core.frame.DataFrame'>\n",
      "RangeIndex: 3276 entries, 0 to 3275\n",
      "Data columns (total 10 columns):\n",
      " #   Column           Non-Null Count  Dtype  \n",
      "---  ------           --------------  -----  \n",
      " 0   ph               2785 non-null   float64\n",
      " 1   Hardness         3276 non-null   float64\n",
      " 2   Solids           3276 non-null   float64\n",
      " 3   Chloramines      3276 non-null   float64\n",
      " 4   Sulfate          2495 non-null   float64\n",
      " 5   Conductivity     3276 non-null   float64\n",
      " 6   Organic_carbon   3276 non-null   float64\n",
      " 7   Trihalomethanes  3114 non-null   float64\n",
      " 8   Turbidity        3276 non-null   float64\n",
      " 9   Potability       3276 non-null   int64  \n",
      "dtypes: float64(9), int64(1)\n",
      "memory usage: 256.1 KB\n"
     ]
    }
   ],
   "source": [
    "data.info()"
   ]
  },
  {
   "cell_type": "markdown",
   "id": "e18c7fbb",
   "metadata": {
    "papermill": {
     "duration": 0.00594,
     "end_time": "2023-12-24T21:04:34.736894",
     "exception": false,
     "start_time": "2023-12-24T21:04:34.730954",
     "status": "completed"
    },
    "tags": []
   },
   "source": [
    "describe() function provides a summary of central tendency, dispersion, and shape of the distribution of a dataset. The output includes various statistics such as count, mean, standard deviation, minimum, 25th percentile (Q1), median (50th percentile or Q2), 75th percentile (Q3), and maximum."
   ]
  },
  {
   "cell_type": "code",
   "execution_count": 5,
   "id": "0451cab8",
   "metadata": {
    "execution": {
     "iopub.execute_input": "2023-12-24T21:04:34.750763Z",
     "iopub.status.busy": "2023-12-24T21:04:34.750296Z",
     "iopub.status.idle": "2023-12-24T21:04:34.781354Z",
     "shell.execute_reply": "2023-12-24T21:04:34.780531Z"
    },
    "papermill": {
     "duration": 0.040033,
     "end_time": "2023-12-24T21:04:34.783149",
     "exception": false,
     "start_time": "2023-12-24T21:04:34.743116",
     "status": "completed"
    },
    "tags": []
   },
   "outputs": [
    {
     "data": {
      "text/html": [
       "<div>\n",
       "<style scoped>\n",
       "    .dataframe tbody tr th:only-of-type {\n",
       "        vertical-align: middle;\n",
       "    }\n",
       "\n",
       "    .dataframe tbody tr th {\n",
       "        vertical-align: top;\n",
       "    }\n",
       "\n",
       "    .dataframe thead th {\n",
       "        text-align: right;\n",
       "    }\n",
       "</style>\n",
       "<table border=\"1\" class=\"dataframe\">\n",
       "  <thead>\n",
       "    <tr style=\"text-align: right;\">\n",
       "      <th></th>\n",
       "      <th>ph</th>\n",
       "      <th>Hardness</th>\n",
       "      <th>Solids</th>\n",
       "      <th>Chloramines</th>\n",
       "      <th>Sulfate</th>\n",
       "      <th>Conductivity</th>\n",
       "      <th>Organic_carbon</th>\n",
       "      <th>Trihalomethanes</th>\n",
       "      <th>Turbidity</th>\n",
       "      <th>Potability</th>\n",
       "    </tr>\n",
       "  </thead>\n",
       "  <tbody>\n",
       "    <tr>\n",
       "      <th>count</th>\n",
       "      <td>2785.000000</td>\n",
       "      <td>3276.000000</td>\n",
       "      <td>3276.000000</td>\n",
       "      <td>3276.000000</td>\n",
       "      <td>2495.000000</td>\n",
       "      <td>3276.000000</td>\n",
       "      <td>3276.000000</td>\n",
       "      <td>3114.000000</td>\n",
       "      <td>3276.000000</td>\n",
       "      <td>3276.000000</td>\n",
       "    </tr>\n",
       "    <tr>\n",
       "      <th>mean</th>\n",
       "      <td>7.080795</td>\n",
       "      <td>196.369496</td>\n",
       "      <td>22014.092526</td>\n",
       "      <td>7.122277</td>\n",
       "      <td>333.775777</td>\n",
       "      <td>426.205111</td>\n",
       "      <td>14.284970</td>\n",
       "      <td>66.396293</td>\n",
       "      <td>3.966786</td>\n",
       "      <td>0.390110</td>\n",
       "    </tr>\n",
       "    <tr>\n",
       "      <th>std</th>\n",
       "      <td>1.594320</td>\n",
       "      <td>32.879761</td>\n",
       "      <td>8768.570828</td>\n",
       "      <td>1.583085</td>\n",
       "      <td>41.416840</td>\n",
       "      <td>80.824064</td>\n",
       "      <td>3.308162</td>\n",
       "      <td>16.175008</td>\n",
       "      <td>0.780382</td>\n",
       "      <td>0.487849</td>\n",
       "    </tr>\n",
       "    <tr>\n",
       "      <th>min</th>\n",
       "      <td>0.000000</td>\n",
       "      <td>47.432000</td>\n",
       "      <td>320.942611</td>\n",
       "      <td>0.352000</td>\n",
       "      <td>129.000000</td>\n",
       "      <td>181.483754</td>\n",
       "      <td>2.200000</td>\n",
       "      <td>0.738000</td>\n",
       "      <td>1.450000</td>\n",
       "      <td>0.000000</td>\n",
       "    </tr>\n",
       "    <tr>\n",
       "      <th>25%</th>\n",
       "      <td>6.093092</td>\n",
       "      <td>176.850538</td>\n",
       "      <td>15666.690297</td>\n",
       "      <td>6.127421</td>\n",
       "      <td>307.699498</td>\n",
       "      <td>365.734414</td>\n",
       "      <td>12.065801</td>\n",
       "      <td>55.844536</td>\n",
       "      <td>3.439711</td>\n",
       "      <td>0.000000</td>\n",
       "    </tr>\n",
       "    <tr>\n",
       "      <th>50%</th>\n",
       "      <td>7.036752</td>\n",
       "      <td>196.967627</td>\n",
       "      <td>20927.833607</td>\n",
       "      <td>7.130299</td>\n",
       "      <td>333.073546</td>\n",
       "      <td>421.884968</td>\n",
       "      <td>14.218338</td>\n",
       "      <td>66.622485</td>\n",
       "      <td>3.955028</td>\n",
       "      <td>0.000000</td>\n",
       "    </tr>\n",
       "    <tr>\n",
       "      <th>75%</th>\n",
       "      <td>8.062066</td>\n",
       "      <td>216.667456</td>\n",
       "      <td>27332.762127</td>\n",
       "      <td>8.114887</td>\n",
       "      <td>359.950170</td>\n",
       "      <td>481.792304</td>\n",
       "      <td>16.557652</td>\n",
       "      <td>77.337473</td>\n",
       "      <td>4.500320</td>\n",
       "      <td>1.000000</td>\n",
       "    </tr>\n",
       "    <tr>\n",
       "      <th>max</th>\n",
       "      <td>14.000000</td>\n",
       "      <td>323.124000</td>\n",
       "      <td>61227.196008</td>\n",
       "      <td>13.127000</td>\n",
       "      <td>481.030642</td>\n",
       "      <td>753.342620</td>\n",
       "      <td>28.300000</td>\n",
       "      <td>124.000000</td>\n",
       "      <td>6.739000</td>\n",
       "      <td>1.000000</td>\n",
       "    </tr>\n",
       "  </tbody>\n",
       "</table>\n",
       "</div>"
      ],
      "text/plain": [
       "                ph     Hardness        Solids  Chloramines      Sulfate  \\\n",
       "count  2785.000000  3276.000000   3276.000000  3276.000000  2495.000000   \n",
       "mean      7.080795   196.369496  22014.092526     7.122277   333.775777   \n",
       "std       1.594320    32.879761   8768.570828     1.583085    41.416840   \n",
       "min       0.000000    47.432000    320.942611     0.352000   129.000000   \n",
       "25%       6.093092   176.850538  15666.690297     6.127421   307.699498   \n",
       "50%       7.036752   196.967627  20927.833607     7.130299   333.073546   \n",
       "75%       8.062066   216.667456  27332.762127     8.114887   359.950170   \n",
       "max      14.000000   323.124000  61227.196008    13.127000   481.030642   \n",
       "\n",
       "       Conductivity  Organic_carbon  Trihalomethanes    Turbidity   Potability  \n",
       "count   3276.000000     3276.000000      3114.000000  3276.000000  3276.000000  \n",
       "mean     426.205111       14.284970        66.396293     3.966786     0.390110  \n",
       "std       80.824064        3.308162        16.175008     0.780382     0.487849  \n",
       "min      181.483754        2.200000         0.738000     1.450000     0.000000  \n",
       "25%      365.734414       12.065801        55.844536     3.439711     0.000000  \n",
       "50%      421.884968       14.218338        66.622485     3.955028     0.000000  \n",
       "75%      481.792304       16.557652        77.337473     4.500320     1.000000  \n",
       "max      753.342620       28.300000       124.000000     6.739000     1.000000  "
      ]
     },
     "execution_count": 5,
     "metadata": {},
     "output_type": "execute_result"
    }
   ],
   "source": [
    "data.describe()"
   ]
  },
  {
   "cell_type": "markdown",
   "id": "cd671249",
   "metadata": {
    "papermill": {
     "duration": 0.006091,
     "end_time": "2023-12-24T21:04:34.795756",
     "exception": false,
     "start_time": "2023-12-24T21:04:34.789665",
     "status": "completed"
    },
    "tags": []
   },
   "source": [
    "Find the records with missing values and remove them"
   ]
  },
  {
   "cell_type": "code",
   "execution_count": 6,
   "id": "423083ae",
   "metadata": {
    "execution": {
     "iopub.execute_input": "2023-12-24T21:04:34.809978Z",
     "iopub.status.busy": "2023-12-24T21:04:34.809250Z",
     "iopub.status.idle": "2023-12-24T21:04:34.816762Z",
     "shell.execute_reply": "2023-12-24T21:04:34.815381Z"
    },
    "papermill": {
     "duration": 0.016829,
     "end_time": "2023-12-24T21:04:34.818758",
     "exception": false,
     "start_time": "2023-12-24T21:04:34.801929",
     "status": "completed"
    },
    "tags": []
   },
   "outputs": [
    {
     "data": {
      "text/plain": [
       "ph                 491\n",
       "Hardness             0\n",
       "Solids               0\n",
       "Chloramines          0\n",
       "Sulfate            781\n",
       "Conductivity         0\n",
       "Organic_carbon       0\n",
       "Trihalomethanes    162\n",
       "Turbidity            0\n",
       "Potability           0\n",
       "dtype: int64"
      ]
     },
     "execution_count": 6,
     "metadata": {},
     "output_type": "execute_result"
    }
   ],
   "source": [
    "data.isnull().sum()\n"
   ]
  },
  {
   "cell_type": "code",
   "execution_count": 7,
   "id": "a6fb7a54",
   "metadata": {
    "execution": {
     "iopub.execute_input": "2023-12-24T21:04:34.834203Z",
     "iopub.status.busy": "2023-12-24T21:04:34.833648Z",
     "iopub.status.idle": "2023-12-24T21:04:34.842707Z",
     "shell.execute_reply": "2023-12-24T21:04:34.842131Z"
    },
    "papermill": {
     "duration": 0.018841,
     "end_time": "2023-12-24T21:04:34.844456",
     "exception": false,
     "start_time": "2023-12-24T21:04:34.825615",
     "status": "completed"
    },
    "tags": []
   },
   "outputs": [
    {
     "data": {
      "text/plain": [
       "ph                 0\n",
       "Hardness           0\n",
       "Solids             0\n",
       "Chloramines        0\n",
       "Sulfate            0\n",
       "Conductivity       0\n",
       "Organic_carbon     0\n",
       "Trihalomethanes    0\n",
       "Turbidity          0\n",
       "Potability         0\n",
       "dtype: int64"
      ]
     },
     "execution_count": 7,
     "metadata": {},
     "output_type": "execute_result"
    }
   ],
   "source": [
    "data = data.dropna()\n",
    "data.isnull().sum()\n"
   ]
  },
  {
   "cell_type": "markdown",
   "id": "71289dcc",
   "metadata": {
    "papermill": {
     "duration": 0.006394,
     "end_time": "2023-12-24T21:04:34.857974",
     "exception": false,
     "start_time": "2023-12-24T21:04:34.851580",
     "status": "completed"
    },
    "tags": []
   },
   "source": []
  },
  {
   "cell_type": "markdown",
   "id": "cb423aec",
   "metadata": {
    "papermill": {
     "duration": 0.006355,
     "end_time": "2023-12-24T21:04:34.870824",
     "exception": false,
     "start_time": "2023-12-24T21:04:34.864469",
     "status": "completed"
    },
    "tags": []
   },
   "source": [
    "# **Step 2: Data Visualization**"
   ]
  },
  {
   "cell_type": "markdown",
   "id": "78506fe0",
   "metadata": {
    "papermill": {
     "duration": 0.006497,
     "end_time": "2023-12-24T21:04:34.883892",
     "exception": false,
     "start_time": "2023-12-24T21:04:34.877395",
     "status": "completed"
    },
    "tags": []
   },
   "source": [
    "Visualize the dataset for potability\n",
    "\n",
    "Indicates if water is safe for human consumption where 1 means Potable and 0 means Not potable."
   ]
  },
  {
   "cell_type": "code",
   "execution_count": 8,
   "id": "5b0d0d1b",
   "metadata": {
    "execution": {
     "iopub.execute_input": "2023-12-24T21:04:34.898814Z",
     "iopub.status.busy": "2023-12-24T21:04:34.898284Z",
     "iopub.status.idle": "2023-12-24T21:04:35.052010Z",
     "shell.execute_reply": "2023-12-24T21:04:35.051300Z"
    },
    "papermill": {
     "duration": 0.163077,
     "end_time": "2023-12-24T21:04:35.053604",
     "exception": false,
     "start_time": "2023-12-24T21:04:34.890527",
     "status": "completed"
    },
    "tags": []
   },
   "outputs": [
    {
     "data": {
      "image/png": "[encoded data removed]",
      "text/plain": [
       "<Figure size 500x500 with 1 Axes>"
      ]
     },
     "metadata": {},
     "output_type": "display_data"
    }
   ],
   "source": [
    "\n",
    "plt.figure(figsize=(5, 5))\n",
    "colors = ['red', 'blue'] \n",
    "sns.countplot(x=data[\"Potability\"], palette=colors)\n",
    "plt.xticks(ticks=[0, 1], labels=['Not Potable', 'Potable'])\n",
    "plt.show()"
   ]
  },
  {
   "cell_type": "markdown",
   "id": "1adf39e7",
   "metadata": {
    "papermill": {
     "duration": 0.008219,
     "end_time": "2023-12-24T21:04:35.070664",
     "exception": false,
     "start_time": "2023-12-24T21:04:35.062445",
     "status": "completed"
    },
    "tags": []
   },
   "source": [
    "Correlation is a statistical measure that quantifies the extent to which two variables change together. In other words, it assesses the strength and direction of a linear relationship between two numerical variables. The correlation coefficient ranges from -1 to 1, where:\n",
    "\n",
    "* 1 indicates a perfect positive correlation (as one variable increases, the other also increases)\n",
    "* -1 indicates a perfect negative correlation (as one variable increases, the other decreases)\n",
    "* 0 indicates no linear correlation.\n",
    "\n",
    "corr() function privides correlation between the features in dataset."
   ]
  },
  {
   "cell_type": "code",
   "execution_count": 9,
   "id": "7cd5495b",
   "metadata": {
    "execution": {
     "iopub.execute_input": "2023-12-24T21:04:35.086063Z",
     "iopub.status.busy": "2023-12-24T21:04:35.085484Z",
     "iopub.status.idle": "2023-12-24T21:04:35.101618Z",
     "shell.execute_reply": "2023-12-24T21:04:35.100575Z"
    },
    "papermill": {
     "duration": 0.026153,
     "end_time": "2023-12-24T21:04:35.103620",
     "exception": false,
     "start_time": "2023-12-24T21:04:35.077467",
     "status": "completed"
    },
    "tags": []
   },
   "outputs": [
    {
     "data": {
      "text/html": [
       "<div>\n",
       "<style scoped>\n",
       "    .dataframe tbody tr th:only-of-type {\n",
       "        vertical-align: middle;\n",
       "    }\n",
       "\n",
       "    .dataframe tbody tr th {\n",
       "        vertical-align: top;\n",
       "    }\n",
       "\n",
       "    .dataframe thead th {\n",
       "        text-align: right;\n",
       "    }\n",
       "</style>\n",
       "<table border=\"1\" class=\"dataframe\">\n",
       "  <thead>\n",
       "    <tr style=\"text-align: right;\">\n",
       "      <th></th>\n",
       "      <th>ph</th>\n",
       "      <th>Hardness</th>\n",
       "      <th>Solids</th>\n",
       "      <th>Chloramines</th>\n",
       "      <th>Sulfate</th>\n",
       "      <th>Conductivity</th>\n",
       "      <th>Organic_carbon</th>\n",
       "      <th>Trihalomethanes</th>\n",
       "      <th>Turbidity</th>\n",
       "      <th>Potability</th>\n",
       "    </tr>\n",
       "  </thead>\n",
       "  <tbody>\n",
       "    <tr>\n",
       "      <th>ph</th>\n",
       "      <td>1.000000</td>\n",
       "      <td>0.108948</td>\n",
       "      <td>-0.087615</td>\n",
       "      <td>-0.024768</td>\n",
       "      <td>0.010524</td>\n",
       "      <td>0.014128</td>\n",
       "      <td>0.028375</td>\n",
       "      <td>0.018278</td>\n",
       "      <td>-0.035849</td>\n",
       "      <td>0.014530</td>\n",
       "    </tr>\n",
       "    <tr>\n",
       "      <th>Hardness</th>\n",
       "      <td>0.108948</td>\n",
       "      <td>1.000000</td>\n",
       "      <td>-0.053269</td>\n",
       "      <td>-0.022685</td>\n",
       "      <td>-0.108521</td>\n",
       "      <td>0.011731</td>\n",
       "      <td>0.013224</td>\n",
       "      <td>-0.015400</td>\n",
       "      <td>-0.034831</td>\n",
       "      <td>-0.001505</td>\n",
       "    </tr>\n",
       "    <tr>\n",
       "      <th>Solids</th>\n",
       "      <td>-0.087615</td>\n",
       "      <td>-0.053269</td>\n",
       "      <td>1.000000</td>\n",
       "      <td>-0.051789</td>\n",
       "      <td>-0.162769</td>\n",
       "      <td>-0.005198</td>\n",
       "      <td>-0.005484</td>\n",
       "      <td>-0.015668</td>\n",
       "      <td>0.019409</td>\n",
       "      <td>0.040674</td>\n",
       "    </tr>\n",
       "    <tr>\n",
       "      <th>Chloramines</th>\n",
       "      <td>-0.024768</td>\n",
       "      <td>-0.022685</td>\n",
       "      <td>-0.051789</td>\n",
       "      <td>1.000000</td>\n",
       "      <td>0.006254</td>\n",
       "      <td>-0.028277</td>\n",
       "      <td>-0.023808</td>\n",
       "      <td>0.014990</td>\n",
       "      <td>0.013137</td>\n",
       "      <td>0.020784</td>\n",
       "    </tr>\n",
       "    <tr>\n",
       "      <th>Sulfate</th>\n",
       "      <td>0.010524</td>\n",
       "      <td>-0.108521</td>\n",
       "      <td>-0.162769</td>\n",
       "      <td>0.006254</td>\n",
       "      <td>1.000000</td>\n",
       "      <td>-0.016192</td>\n",
       "      <td>0.026776</td>\n",
       "      <td>-0.023347</td>\n",
       "      <td>-0.009934</td>\n",
       "      <td>-0.015303</td>\n",
       "    </tr>\n",
       "    <tr>\n",
       "      <th>Conductivity</th>\n",
       "      <td>0.014128</td>\n",
       "      <td>0.011731</td>\n",
       "      <td>-0.005198</td>\n",
       "      <td>-0.028277</td>\n",
       "      <td>-0.016192</td>\n",
       "      <td>1.000000</td>\n",
       "      <td>0.015647</td>\n",
       "      <td>0.004888</td>\n",
       "      <td>0.012495</td>\n",
       "      <td>-0.015496</td>\n",
       "    </tr>\n",
       "    <tr>\n",
       "      <th>Organic_carbon</th>\n",
       "      <td>0.028375</td>\n",
       "      <td>0.013224</td>\n",
       "      <td>-0.005484</td>\n",
       "      <td>-0.023808</td>\n",
       "      <td>0.026776</td>\n",
       "      <td>0.015647</td>\n",
       "      <td>1.000000</td>\n",
       "      <td>-0.005667</td>\n",
       "      <td>-0.015428</td>\n",
       "      <td>-0.015567</td>\n",
       "    </tr>\n",
       "    <tr>\n",
       "      <th>Trihalomethanes</th>\n",
       "      <td>0.018278</td>\n",
       "      <td>-0.015400</td>\n",
       "      <td>-0.015668</td>\n",
       "      <td>0.014990</td>\n",
       "      <td>-0.023347</td>\n",
       "      <td>0.004888</td>\n",
       "      <td>-0.005667</td>\n",
       "      <td>1.000000</td>\n",
       "      <td>-0.020497</td>\n",
       "      <td>0.009244</td>\n",
       "    </tr>\n",
       "    <tr>\n",
       "      <th>Turbidity</th>\n",
       "      <td>-0.035849</td>\n",
       "      <td>-0.034831</td>\n",
       "      <td>0.019409</td>\n",
       "      <td>0.013137</td>\n",
       "      <td>-0.009934</td>\n",
       "      <td>0.012495</td>\n",
       "      <td>-0.015428</td>\n",
       "      <td>-0.020497</td>\n",
       "      <td>1.000000</td>\n",
       "      <td>0.022682</td>\n",
       "    </tr>\n",
       "    <tr>\n",
       "      <th>Potability</th>\n",
       "      <td>0.014530</td>\n",
       "      <td>-0.001505</td>\n",
       "      <td>0.040674</td>\n",
       "      <td>0.020784</td>\n",
       "      <td>-0.015303</td>\n",
       "      <td>-0.015496</td>\n",
       "      <td>-0.015567</td>\n",
       "      <td>0.009244</td>\n",
       "      <td>0.022682</td>\n",
       "      <td>1.000000</td>\n",
       "    </tr>\n",
       "  </tbody>\n",
       "</table>\n",
       "</div>"
      ],
      "text/plain": [
       "                       ph  Hardness    Solids  Chloramines   Sulfate  \\\n",
       "ph               1.000000  0.108948 -0.087615    -0.024768  0.010524   \n",
       "Hardness         0.108948  1.000000 -0.053269    -0.022685 -0.108521   \n",
       "Solids          -0.087615 -0.053269  1.000000    -0.051789 -0.162769   \n",
       "Chloramines     -0.024768 -0.022685 -0.051789     1.000000  0.006254   \n",
       "Sulfate          0.010524 -0.108521 -0.162769     0.006254  1.000000   \n",
       "Conductivity     0.014128  0.011731 -0.005198    -0.028277 -0.016192   \n",
       "Organic_carbon   0.028375  0.013224 -0.005484    -0.023808  0.026776   \n",
       "Trihalomethanes  0.018278 -0.015400 -0.015668     0.014990 -0.023347   \n",
       "Turbidity       -0.035849 -0.034831  0.019409     0.013137 -0.009934   \n",
       "Potability       0.014530 -0.001505  0.040674     0.020784 -0.015303   \n",
       "\n",
       "                 Conductivity  Organic_carbon  Trihalomethanes  Turbidity  \\\n",
       "ph                   0.014128        0.028375         0.018278  -0.035849   \n",
       "Hardness             0.011731        0.013224        -0.015400  -0.034831   \n",
       "Solids              -0.005198       -0.005484        -0.015668   0.019409   \n",
       "Chloramines         -0.028277       -0.023808         0.014990   0.013137   \n",
       "Sulfate             -0.016192        0.026776        -0.023347  -0.009934   \n",
       "Conductivity         1.000000        0.015647         0.004888   0.012495   \n",
       "Organic_carbon       0.015647        1.000000        -0.005667  -0.015428   \n",
       "Trihalomethanes      0.004888       -0.005667         1.000000  -0.020497   \n",
       "Turbidity            0.012495       -0.015428        -0.020497   1.000000   \n",
       "Potability          -0.015496       -0.015567         0.009244   0.022682   \n",
       "\n",
       "                 Potability  \n",
       "ph                 0.014530  \n",
       "Hardness          -0.001505  \n",
       "Solids             0.040674  \n",
       "Chloramines        0.020784  \n",
       "Sulfate           -0.015303  \n",
       "Conductivity      -0.015496  \n",
       "Organic_carbon    -0.015567  \n",
       "Trihalomethanes    0.009244  \n",
       "Turbidity          0.022682  \n",
       "Potability         1.000000  "
      ]
     },
     "execution_count": 9,
     "metadata": {},
     "output_type": "execute_result"
    }
   ],
   "source": [
    "data.corr()"
   ]
  },
  {
   "cell_type": "code",
   "execution_count": 10,
   "id": "0e8bedc7",
   "metadata": {
    "execution": {
     "iopub.execute_input": "2023-12-24T21:04:35.119003Z",
     "iopub.status.busy": "2023-12-24T21:04:35.118639Z",
     "iopub.status.idle": "2023-12-24T21:04:35.613763Z",
     "shell.execute_reply": "2023-12-24T21:04:35.612862Z"
    },
    "papermill": {
     "duration": 0.505162,
     "end_time": "2023-12-24T21:04:35.615918",
     "exception": false,
     "start_time": "2023-12-24T21:04:35.110756",
     "status": "completed"
    },
    "tags": []
   },
   "outputs": [
    {
     "data": {
      "image/png": "[encoded data removed]",
      "text/plain": [
       "<Figure size 2000x1000 with 2 Axes>"
      ]
     },
     "metadata": {},
     "output_type": "display_data"
    }
   ],
   "source": [
    "plt.figure(figsize=(20,10))\n",
    "sns.heatmap(data.corr(), cmap='YlGnBu', annot=True)\n",
    "plt.show()"
   ]
  },
  {
   "cell_type": "markdown",
   "id": "c2193a86",
   "metadata": {
    "papermill": {
     "duration": 0.007776,
     "end_time": "2023-12-24T21:04:35.632054",
     "exception": false,
     "start_time": "2023-12-24T21:04:35.624278",
     "status": "completed"
    },
    "tags": []
   },
   "source": [
    "Lets try to predict water potability using simpler models like logistic regression and Decision tree"
   ]
  },
  {
   "cell_type": "markdown",
   "id": "c0dc8932",
   "metadata": {
    "papermill": {
     "duration": 0.007698,
     "end_time": "2023-12-24T21:04:35.647673",
     "exception": false,
     "start_time": "2023-12-24T21:04:35.639975",
     "status": "completed"
    },
    "tags": []
   },
   "source": [
    "# **Step 3 : Using Machine Learning Model**"
   ]
  },
  {
   "cell_type": "markdown",
   "id": "ab7aecd9",
   "metadata": {
    "papermill": {
     "duration": 0.007716,
     "end_time": "2023-12-24T21:04:35.663534",
     "exception": false,
     "start_time": "2023-12-24T21:04:35.655818",
     "status": "completed"
    },
    "tags": []
   },
   "source": [
    "**Logistic Regression**\n",
    "\n",
    "Logistic Regression is a binary classification algorithm used to predict the probability of an instance belonging to a particular class. It models the relationship between independent variables and the log-odds of the dependent variable, employing the logistic function to ensure predicted probabilities lie between 0 and 1."
   ]
  },
  {
   "cell_type": "code",
   "execution_count": 11,
   "id": "926726a5",
   "metadata": {
    "execution": {
     "iopub.execute_input": "2023-12-24T21:04:35.681430Z",
     "iopub.status.busy": "2023-12-24T21:04:35.680966Z",
     "iopub.status.idle": "2023-12-24T21:04:35.993737Z",
     "shell.execute_reply": "2023-12-24T21:04:35.992509Z"
    },
    "papermill": {
     "duration": 0.324657,
     "end_time": "2023-12-24T21:04:35.996117",
     "exception": false,
     "start_time": "2023-12-24T21:04:35.671460",
     "status": "completed"
    },
    "tags": []
   },
   "outputs": [],
   "source": [
    "from sklearn.model_selection import train_test_split\n",
    "from sklearn.linear_model import LogisticRegression\n",
    "from sklearn.metrics import confusion_matrix,classification_report"
   ]
  },
  {
   "cell_type": "code",
   "execution_count": 12,
   "id": "aee0344a",
   "metadata": {
    "execution": {
     "iopub.execute_input": "2023-12-24T21:04:36.014111Z",
     "iopub.status.busy": "2023-12-24T21:04:36.013712Z",
     "iopub.status.idle": "2023-12-24T21:04:36.020110Z",
     "shell.execute_reply": "2023-12-24T21:04:36.019343Z"
    },
    "papermill": {
     "duration": 0.017181,
     "end_time": "2023-12-24T21:04:36.021731",
     "exception": false,
     "start_time": "2023-12-24T21:04:36.004550",
     "status": "completed"
    },
    "tags": []
   },
   "outputs": [],
   "source": [
    "X = data.iloc[:,:-1] #independent variables first to second last column\n",
    "y = data.iloc[:,-1] # dependent variable last column i.e. Portability"
   ]
  },
  {
   "cell_type": "code",
   "execution_count": 13,
   "id": "0b958973",
   "metadata": {
    "execution": {
     "iopub.execute_input": "2023-12-24T21:04:36.040062Z",
     "iopub.status.busy": "2023-12-24T21:04:36.039721Z",
     "iopub.status.idle": "2023-12-24T21:04:36.048499Z",
     "shell.execute_reply": "2023-12-24T21:04:36.047540Z"
    },
    "papermill": {
     "duration": 0.020308,
     "end_time": "2023-12-24T21:04:36.050588",
     "exception": false,
     "start_time": "2023-12-24T21:04:36.030280",
     "status": "completed"
    },
    "tags": []
   },
   "outputs": [
    {
     "data": {
      "text/plain": [
       "3       0\n",
       "4       0\n",
       "5       0\n",
       "6       0\n",
       "7       0\n",
       "       ..\n",
       "3267    1\n",
       "3268    1\n",
       "3269    1\n",
       "3270    1\n",
       "3271    1\n",
       "Name: Potability, Length: 2011, dtype: int64"
      ]
     },
     "execution_count": 13,
     "metadata": {},
     "output_type": "execute_result"
    }
   ],
   "source": [
    "y\n"
   ]
  },
  {
   "cell_type": "code",
   "execution_count": 14,
   "id": "5f345a32",
   "metadata": {
    "execution": {
     "iopub.execute_input": "2023-12-24T21:04:36.069547Z",
     "iopub.status.busy": "2023-12-24T21:04:36.069196Z",
     "iopub.status.idle": "2023-12-24T21:04:36.105981Z",
     "shell.execute_reply": "2023-12-24T21:04:36.105145Z"
    },
    "papermill": {
     "duration": 0.049067,
     "end_time": "2023-12-24T21:04:36.108530",
     "exception": false,
     "start_time": "2023-12-24T21:04:36.059463",
     "status": "completed"
    },
    "tags": []
   },
   "outputs": [],
   "source": [
    "X_train, X_test, y_train, y_test = train_test_split(X, y, test_size=0.2, random_state=42)\n",
    "model = LogisticRegression()\n",
    "model.fit(X_train, y_train)\n",
    "predictions = model.predict(X_test)"
   ]
  },
  {
   "cell_type": "markdown",
   "id": "f067005e",
   "metadata": {
    "papermill": {
     "duration": 0.011083,
     "end_time": "2023-12-24T21:04:36.130822",
     "exception": false,
     "start_time": "2023-12-24T21:04:36.119739",
     "status": "completed"
    },
    "tags": []
   },
   "source": [
    "Evaluate the model"
   ]
  },
  {
   "cell_type": "code",
   "execution_count": 15,
   "id": "5f99c300",
   "metadata": {
    "execution": {
     "iopub.execute_input": "2023-12-24T21:04:36.156225Z",
     "iopub.status.busy": "2023-12-24T21:04:36.155064Z",
     "iopub.status.idle": "2023-12-24T21:04:36.287657Z",
     "shell.execute_reply": "2023-12-24T21:04:36.286697Z"
    },
    "papermill": {
     "duration": 0.14753,
     "end_time": "2023-12-24T21:04:36.290200",
     "exception": false,
     "start_time": "2023-12-24T21:04:36.142670",
     "status": "completed"
    },
    "tags": []
   },
   "outputs": [
    {
     "data": {
      "image/png": "[encoded data removed]",
      "text/plain": [
       "<Figure size 640x480 with 1 Axes>"
      ]
     },
     "metadata": {},
     "output_type": "display_data"
    }
   ],
   "source": [
    "cm = confusion_matrix(y_test, predictions)\n",
    "\n",
    "sns.heatmap(cm, annot=True, fmt='d', cmap='Blues', cbar=False,\n",
    "            xticklabels=['Actual Not Portable', 'Actual Portable'],\n",
    "            yticklabels=['Predicted Not Portable', 'Predicted Portable'])\n",
    "plt.xlabel('Predicted Label')\n",
    "plt.ylabel('True Label')\n",
    "plt.title('Confusion Matrix')\n",
    "plt.show()"
   ]
  },
  {
   "cell_type": "code",
   "execution_count": 16,
   "id": "0474e8f1",
   "metadata": {
    "execution": {
     "iopub.execute_input": "2023-12-24T21:04:36.313824Z",
     "iopub.status.busy": "2023-12-24T21:04:36.313479Z",
     "iopub.status.idle": "2023-12-24T21:04:36.326984Z",
     "shell.execute_reply": "2023-12-24T21:04:36.325520Z"
    },
    "papermill": {
     "duration": 0.027482,
     "end_time": "2023-12-24T21:04:36.328805",
     "exception": false,
     "start_time": "2023-12-24T21:04:36.301323",
     "status": "completed"
    },
    "tags": []
   },
   "outputs": [
    {
     "name": "stdout",
     "output_type": "stream",
     "text": [
      "              precision    recall  f1-score   support\n",
      "\n",
      "           0       0.57      1.00      0.73       231\n",
      "           1       0.00      0.00      0.00       172\n",
      "\n",
      "    accuracy                           0.57       403\n",
      "   macro avg       0.29      0.50      0.36       403\n",
      "weighted avg       0.33      0.57      0.42       403\n",
      "\n"
     ]
    }
   ],
   "source": [
    "print(classification_report(y_test, predictions,  zero_division=0))"
   ]
  },
  {
   "cell_type": "markdown",
   "id": "63668823",
   "metadata": {
    "papermill": {
     "duration": 0.010986,
     "end_time": "2023-12-24T21:04:36.350884",
     "exception": false,
     "start_time": "2023-12-24T21:04:36.339898",
     "status": "completed"
    },
    "tags": []
   },
   "source": [
    "**Decision Tree**\n",
    "\n",
    "Decision tree in machine learning is a predictive model that maps features to outcomes by recursively splitting data based on attribute values. It organizes decisions in a tree-like structure, making it easy to interpret and implement. Nodes represent decision points, branches represent outcomes, and leaves contain final predictions or classifications."
   ]
  },
  {
   "cell_type": "code",
   "execution_count": 17,
   "id": "1ad71d48",
   "metadata": {
    "execution": {
     "iopub.execute_input": "2023-12-24T21:04:36.370552Z",
     "iopub.status.busy": "2023-12-24T21:04:36.369964Z",
     "iopub.status.idle": "2023-12-24T21:04:36.459783Z",
     "shell.execute_reply": "2023-12-24T21:04:36.458610Z"
    },
    "papermill": {
     "duration": 0.101668,
     "end_time": "2023-12-24T21:04:36.462022",
     "exception": false,
     "start_time": "2023-12-24T21:04:36.360354",
     "status": "completed"
    },
    "tags": []
   },
   "outputs": [],
   "source": [
    "from sklearn.tree import DecisionTreeClassifier"
   ]
  },
  {
   "cell_type": "code",
   "execution_count": 18,
   "id": "cf40727d",
   "metadata": {
    "execution": {
     "iopub.execute_input": "2023-12-24T21:04:36.531265Z",
     "iopub.status.busy": "2023-12-24T21:04:36.530910Z",
     "iopub.status.idle": "2023-12-24T21:04:36.556475Z",
     "shell.execute_reply": "2023-12-24T21:04:36.555567Z"
    },
    "papermill": {
     "duration": 0.087952,
     "end_time": "2023-12-24T21:04:36.558851",
     "exception": false,
     "start_time": "2023-12-24T21:04:36.470899",
     "status": "completed"
    },
    "tags": []
   },
   "outputs": [],
   "source": [
    "\n",
    "clf = DecisionTreeClassifier()\n",
    "clf.fit(X_train, y_train)\n",
    "\n",
    "clf_pred = clf.predict(X_test)"
   ]
  },
  {
   "cell_type": "code",
   "execution_count": 19,
   "id": "2ff39f39",
   "metadata": {
    "execution": {
     "iopub.execute_input": "2023-12-24T21:04:36.577767Z",
     "iopub.status.busy": "2023-12-24T21:04:36.577514Z",
     "iopub.status.idle": "2023-12-24T21:04:36.691569Z",
     "shell.execute_reply": "2023-12-24T21:04:36.690418Z"
    },
    "papermill": {
     "duration": 0.125574,
     "end_time": "2023-12-24T21:04:36.693481",
     "exception": false,
     "start_time": "2023-12-24T21:04:36.567907",
     "status": "completed"
    },
    "tags": []
   },
   "outputs": [
    {
     "data": {
      "image/png": "[encoded data removed]",
      "text/plain": [
       "<Figure size 640x480 with 1 Axes>"
      ]
     },
     "metadata": {},
     "output_type": "display_data"
    }
   ],
   "source": [
    "clf_m = confusion_matrix(y_test, clf_pred)\n",
    "\n",
    "sns.heatmap(clf_m, annot=True, fmt='d', cmap='Blues', cbar=False,\n",
    "            xticklabels=['Actual Not Portable', 'Actual Portable'],\n",
    "            yticklabels=['Predicted Not Portable', 'Predicted Portable'])\n",
    "plt.xlabel('Predicted Label')\n",
    "plt.ylabel('True Label')\n",
    "plt.title('Confusion Matrix')\n",
    "plt.show()"
   ]
  },
  {
   "cell_type": "code",
   "execution_count": 20,
   "id": "2aa85f2c",
   "metadata": {
    "execution": {
     "iopub.execute_input": "2023-12-24T21:04:36.718903Z",
     "iopub.status.busy": "2023-12-24T21:04:36.718410Z",
     "iopub.status.idle": "2023-12-24T21:04:36.730345Z",
     "shell.execute_reply": "2023-12-24T21:04:36.729573Z"
    },
    "papermill": {
     "duration": 0.026898,
     "end_time": "2023-12-24T21:04:36.732129",
     "exception": false,
     "start_time": "2023-12-24T21:04:36.705231",
     "status": "completed"
    },
    "tags": []
   },
   "outputs": [
    {
     "name": "stdout",
     "output_type": "stream",
     "text": [
      "              precision    recall  f1-score   support\n",
      "\n",
      "           0       0.66      0.72      0.69       231\n",
      "           1       0.58      0.51      0.54       172\n",
      "\n",
      "    accuracy                           0.63       403\n",
      "   macro avg       0.62      0.62      0.62       403\n",
      "weighted avg       0.63      0.63      0.63       403\n",
      "\n"
     ]
    }
   ],
   "source": [
    "print(classification_report(y_test, clf_pred,  zero_division=0))"
   ]
  }
 ],
 "metadata": {
  "kaggle": {
   "accelerator": "none",
   "dataSources": [
    {
     "datasetId": 1292407,
     "sourceId": 2157486,
     "sourceType": "datasetVersion"
    }
   ],
   "dockerImageVersionId": 30626,
   "isGpuEnabled": false,
   "isInternetEnabled": true,
   "language": "python",
   "sourceType": "notebook"
  },
  "kernelspec": {
   "display_name": "Python 3",
   "language": "python",
   "name": "python3"
  },
  "language_info": {
   "codemirror_mode": {
    "name": "ipython",
    "version": 3
   },
   "file_extension": ".py",
   "mimetype": "text/x-python",
   "name": "python",
   "nbconvert_exporter": "python",
   "pygments_lexer": "ipython3",
   "version": "3.10.12"
  },
  "papermill": {
   "default_parameters": {},
   "duration": 6.623299,
   "end_time": "2023-12-24T21:04:37.262274",
   "environment_variables": {},
   "exception": null,
   "input_path": "__notebook__.ipynb",
   "output_path": "__notebook__.ipynb",
   "parameters": {},
   "start_time": "2023-12-24T21:04:30.638975",
   "version": "2.4.0"
  }
 },
 "nbformat": 4,
 "nbformat_minor": 5
}
