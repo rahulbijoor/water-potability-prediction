{
 "cells": [
  {
   "cell_type": "code",
   "execution_count": 1,
   "id": "afb932ab",
   "metadata": {
    "_cell_guid": "b1076dfc-b9ad-4769-8c92-a6c4dae69d19",
    "_uuid": "8f2839f25d086af736a60e9eeb907d3b93b6e0e5",
    "execution": {
     "iopub.execute_input": "2024-01-07T03:24:07.448994Z",
     "iopub.status.busy": "2024-01-07T03:24:07.448614Z",
     "iopub.status.idle": "2024-01-07T03:24:08.071432Z",
     "shell.execute_reply": "2024-01-07T03:24:08.069926Z"
    },
    "papermill": {
     "duration": 0.636324,
     "end_time": "2024-01-07T03:24:08.074280",
     "exception": false,
     "start_time": "2024-01-07T03:24:07.437956",
     "status": "completed"
    },
    "tags": []
   },
   "outputs": [
    {
     "name": "stdout",
     "output_type": "stream",
     "text": [
      "/kaggle/input/water-potability/water_potability.csv\n"
     ]
    }
   ],
   "source": [
    "# This Python 3 environment comes with many helpful analytics libraries installed\n",
    "# It is defined by the kaggle/python Docker image: https://github.com/kaggle/docker-python\n",
    "# For example, here's several helpful packages to load\n",
    "\n",
    "import numpy as np # linear algebra\n",
    "import pandas as pd # data processing, CSV file I/O (e.g. pd.read_csv)\n",
    "\n",
    "# Input data files are available in the read-only \"../input/\" directory\n",
    "# For example, running this (by clicking run or pressing Shift+Enter) will list all files under the input directory\n",
    "\n",
    "import os\n",
    "for dirname, _, filenames in os.walk('/kaggle/input'):\n",
    "    for filename in filenames:\n",
    "        print(os.path.join(dirname, filename))\n",
    "\n",
    "# You can write up to 20GB to the current directory (/kaggle/working/) that gets preserved as output when you create a version using \"Save & Run All\" \n",
    "# You can also write temporary files to /kaggle/temp/, but they won't be saved outside of the current session"
   ]
  },
  {
   "cell_type": "code",
   "execution_count": 2,
   "id": "b023ecc2",
   "metadata": {
    "execution": {
     "iopub.execute_input": "2024-01-07T03:24:08.094092Z",
     "iopub.status.busy": "2024-01-07T03:24:08.093473Z",
     "iopub.status.idle": "2024-01-07T03:24:09.136504Z",
     "shell.execute_reply": "2024-01-07T03:24:09.135482Z"
    },
    "papermill": {
     "duration": 1.055665,
     "end_time": "2024-01-07T03:24:09.139008",
     "exception": false,
     "start_time": "2024-01-07T03:24:08.083343",
     "status": "completed"
    },
    "tags": []
   },
   "outputs": [],
   "source": [
    "import seaborn as sns\n",
    "import matplotlib.pyplot as plt #Both these packages help in visualization"
   ]
  },
  {
   "cell_type": "code",
   "execution_count": 3,
   "id": "f80197be",
   "metadata": {
    "execution": {
     "iopub.execute_input": "2024-01-07T03:24:09.158926Z",
     "iopub.status.busy": "2024-01-07T03:24:09.158531Z",
     "iopub.status.idle": "2024-01-07T03:24:09.209945Z",
     "shell.execute_reply": "2024-01-07T03:24:09.209033Z"
    },
    "papermill": {
     "duration": 0.063393,
     "end_time": "2024-01-07T03:24:09.211608",
     "exception": false,
     "start_time": "2024-01-07T03:24:09.148215",
     "status": "completed"
    },
    "tags": []
   },
   "outputs": [
    {
     "data": {
      "text/html": [
       "<div>\n",
       "<style scoped>\n",
       "    .dataframe tbody tr th:only-of-type {\n",
       "        vertical-align: middle;\n",
       "    }\n",
       "\n",
       "    .dataframe tbody tr th {\n",
       "        vertical-align: top;\n",
       "    }\n",
       "\n",
       "    .dataframe thead th {\n",
       "        text-align: right;\n",
       "    }\n",
       "</style>\n",
       "<table border=\"1\" class=\"dataframe\">\n",
       "  <thead>\n",
       "    <tr style=\"text-align: right;\">\n",
       "      <th></th>\n",
       "      <th>ph</th>\n",
       "      <th>Hardness</th>\n",
       "      <th>Solids</th>\n",
       "      <th>Chloramines</th>\n",
       "      <th>Sulfate</th>\n",
       "      <th>Conductivity</th>\n",
       "      <th>Organic_carbon</th>\n",
       "      <th>Trihalomethanes</th>\n",
       "      <th>Turbidity</th>\n",
       "      <th>Potability</th>\n",
       "    </tr>\n",
       "  </thead>\n",
       "  <tbody>\n",
       "    <tr>\n",
       "      <th>0</th>\n",
       "      <td>NaN</td>\n",
       "      <td>204.890455</td>\n",
       "      <td>20791.318981</td>\n",
       "      <td>7.300212</td>\n",
       "      <td>368.516441</td>\n",
       "      <td>564.308654</td>\n",
       "      <td>10.379783</td>\n",
       "      <td>86.990970</td>\n",
       "      <td>2.963135</td>\n",
       "      <td>0</td>\n",
       "    </tr>\n",
       "    <tr>\n",
       "      <th>1</th>\n",
       "      <td>3.716080</td>\n",
       "      <td>129.422921</td>\n",
       "      <td>18630.057858</td>\n",
       "      <td>6.635246</td>\n",
       "      <td>NaN</td>\n",
       "      <td>592.885359</td>\n",
       "      <td>15.180013</td>\n",
       "      <td>56.329076</td>\n",
       "      <td>4.500656</td>\n",
       "      <td>0</td>\n",
       "    </tr>\n",
       "    <tr>\n",
       "      <th>2</th>\n",
       "      <td>8.099124</td>\n",
       "      <td>224.236259</td>\n",
       "      <td>19909.541732</td>\n",
       "      <td>9.275884</td>\n",
       "      <td>NaN</td>\n",
       "      <td>418.606213</td>\n",
       "      <td>16.868637</td>\n",
       "      <td>66.420093</td>\n",
       "      <td>3.055934</td>\n",
       "      <td>0</td>\n",
       "    </tr>\n",
       "    <tr>\n",
       "      <th>3</th>\n",
       "      <td>8.316766</td>\n",
       "      <td>214.373394</td>\n",
       "      <td>22018.417441</td>\n",
       "      <td>8.059332</td>\n",
       "      <td>356.886136</td>\n",
       "      <td>363.266516</td>\n",
       "      <td>18.436524</td>\n",
       "      <td>100.341674</td>\n",
       "      <td>4.628771</td>\n",
       "      <td>0</td>\n",
       "    </tr>\n",
       "    <tr>\n",
       "      <th>4</th>\n",
       "      <td>9.092223</td>\n",
       "      <td>181.101509</td>\n",
       "      <td>17978.986339</td>\n",
       "      <td>6.546600</td>\n",
       "      <td>310.135738</td>\n",
       "      <td>398.410813</td>\n",
       "      <td>11.558279</td>\n",
       "      <td>31.997993</td>\n",
       "      <td>4.075075</td>\n",
       "      <td>0</td>\n",
       "    </tr>\n",
       "  </tbody>\n",
       "</table>\n",
       "</div>"
      ],
      "text/plain": [
       "         ph    Hardness        Solids  Chloramines     Sulfate  Conductivity  \\\n",
       "0       NaN  204.890455  20791.318981     7.300212  368.516441    564.308654   \n",
       "1  3.716080  129.422921  18630.057858     6.635246         NaN    592.885359   \n",
       "2  8.099124  224.236259  19909.541732     9.275884         NaN    418.606213   \n",
       "3  8.316766  214.373394  22018.417441     8.059332  356.886136    363.266516   \n",
       "4  9.092223  181.101509  17978.986339     6.546600  310.135738    398.410813   \n",
       "\n",
       "   Organic_carbon  Trihalomethanes  Turbidity  Potability  \n",
       "0       10.379783        86.990970   2.963135           0  \n",
       "1       15.180013        56.329076   4.500656           0  \n",
       "2       16.868637        66.420093   3.055934           0  \n",
       "3       18.436524       100.341674   4.628771           0  \n",
       "4       11.558279        31.997993   4.075075           0  "
      ]
     },
     "execution_count": 3,
     "metadata": {},
     "output_type": "execute_result"
    }
   ],
   "source": [
    "data = pd.read_csv(\"/kaggle/input/water-potability/water_potability.csv\")\n",
    "data.head()"
   ]
  },
  {
   "cell_type": "markdown",
   "id": "d494da69",
   "metadata": {
    "papermill": {
     "duration": 0.009426,
     "end_time": "2024-01-07T03:24:09.229752",
     "exception": false,
     "start_time": "2024-01-07T03:24:09.220326",
     "status": "completed"
    },
    "tags": []
   },
   "source": [
    "# **Step 1: Exploratory Data Analysis**\n",
    " "
   ]
  },
  {
   "cell_type": "markdown",
   "id": "496371b6",
   "metadata": {
    "papermill": {
     "duration": 0.00877,
     "end_time": "2024-01-07T03:24:09.248311",
     "exception": false,
     "start_time": "2024-01-07T03:24:09.239541",
     "status": "completed"
    },
    "tags": []
   },
   "source": [
    "info() function gives the summary of the columns in the dataset."
   ]
  },
  {
   "cell_type": "code",
   "execution_count": 4,
   "id": "4adb7018",
   "metadata": {
    "execution": {
     "iopub.execute_input": "2024-01-07T03:24:09.268369Z",
     "iopub.status.busy": "2024-01-07T03:24:09.267767Z",
     "iopub.status.idle": "2024-01-07T03:24:09.366934Z",
     "shell.execute_reply": "2024-01-07T03:24:09.366192Z"
    },
    "papermill": {
     "duration": 0.110849,
     "end_time": "2024-01-07T03:24:09.368597",
     "exception": false,
     "start_time": "2024-01-07T03:24:09.257748",
     "status": "completed"
    },
    "tags": []
   },
   "outputs": [
    {
     "name": "stdout",
     "output_type": "stream",
     "text": [
      "<class 'pandas.core.frame.DataFrame'>\n",
      "RangeIndex: 3276 entries, 0 to 3275\n",
      "Data columns (total 10 columns):\n",
      " #   Column           Non-Null Count  Dtype  \n",
      "---  ------           --------------  -----  \n",
      " 0   ph               2785 non-null   float64\n",
      " 1   Hardness         3276 non-null   float64\n",
      " 2   Solids           3276 non-null   float64\n",
      " 3   Chloramines      3276 non-null   float64\n",
      " 4   Sulfate          2495 non-null   float64\n",
      " 5   Conductivity     3276 non-null   float64\n",
      " 6   Organic_carbon   3276 non-null   float64\n",
      " 7   Trihalomethanes  3114 non-null   float64\n",
      " 8   Turbidity        3276 non-null   float64\n",
      " 9   Potability       3276 non-null   int64  \n",
      "dtypes: float64(9), int64(1)\n",
      "memory usage: 256.1 KB\n"
     ]
    }
   ],
   "source": [
    "data.info()"
   ]
  },
  {
   "cell_type": "markdown",
   "id": "66034e4d",
   "metadata": {
    "papermill": {
     "duration": 0.008491,
     "end_time": "2024-01-07T03:24:09.385934",
     "exception": false,
     "start_time": "2024-01-07T03:24:09.377443",
     "status": "completed"
    },
    "tags": []
   },
   "source": [
    "describe() function provides a summary of central tendency, dispersion, and shape of the distribution of a dataset. The output includes various statistics such as count, mean, standard deviation, minimum, 25th percentile (Q1), median (50th percentile or Q2), 75th percentile (Q3), and maximum."
   ]
  },
  {
   "cell_type": "code",
   "execution_count": 5,
   "id": "122f0549",
   "metadata": {
    "execution": {
     "iopub.execute_input": "2024-01-07T03:24:09.405140Z",
     "iopub.status.busy": "2024-01-07T03:24:09.404611Z",
     "iopub.status.idle": "2024-01-07T03:24:09.439039Z",
     "shell.execute_reply": "2024-01-07T03:24:09.438146Z"
    },
    "papermill": {
     "duration": 0.04646,
     "end_time": "2024-01-07T03:24:09.441068",
     "exception": false,
     "start_time": "2024-01-07T03:24:09.394608",
     "status": "completed"
    },
    "tags": []
   },
   "outputs": [
    {
     "data": {
      "text/html": [
       "<div>\n",
       "<style scoped>\n",
       "    .dataframe tbody tr th:only-of-type {\n",
       "        vertical-align: middle;\n",
       "    }\n",
       "\n",
       "    .dataframe tbody tr th {\n",
       "        vertical-align: top;\n",
       "    }\n",
       "\n",
       "    .dataframe thead th {\n",
       "        text-align: right;\n",
       "    }\n",
       "</style>\n",
       "<table border=\"1\" class=\"dataframe\">\n",
       "  <thead>\n",
       "    <tr style=\"text-align: right;\">\n",
       "      <th></th>\n",
       "      <th>ph</th>\n",
       "      <th>Hardness</th>\n",
       "      <th>Solids</th>\n",
       "      <th>Chloramines</th>\n",
       "      <th>Sulfate</th>\n",
       "      <th>Conductivity</th>\n",
       "      <th>Organic_carbon</th>\n",
       "      <th>Trihalomethanes</th>\n",
       "      <th>Turbidity</th>\n",
       "      <th>Potability</th>\n",
       "    </tr>\n",
       "  </thead>\n",
       "  <tbody>\n",
       "    <tr>\n",
       "      <th>count</th>\n",
       "      <td>2785.000000</td>\n",
       "      <td>3276.000000</td>\n",
       "      <td>3276.000000</td>\n",
       "      <td>3276.000000</td>\n",
       "      <td>2495.000000</td>\n",
       "      <td>3276.000000</td>\n",
       "      <td>3276.000000</td>\n",
       "      <td>3114.000000</td>\n",
       "      <td>3276.000000</td>\n",
       "      <td>3276.000000</td>\n",
       "    </tr>\n",
       "    <tr>\n",
       "      <th>mean</th>\n",
       "      <td>7.080795</td>\n",
       "      <td>196.369496</td>\n",
       "      <td>22014.092526</td>\n",
       "      <td>7.122277</td>\n",
       "      <td>333.775777</td>\n",
       "      <td>426.205111</td>\n",
       "      <td>14.284970</td>\n",
       "      <td>66.396293</td>\n",
       "      <td>3.966786</td>\n",
       "      <td>0.390110</td>\n",
       "    </tr>\n",
       "    <tr>\n",
       "      <th>std</th>\n",
       "      <td>1.594320</td>\n",
       "      <td>32.879761</td>\n",
       "      <td>8768.570828</td>\n",
       "      <td>1.583085</td>\n",
       "      <td>41.416840</td>\n",
       "      <td>80.824064</td>\n",
       "      <td>3.308162</td>\n",
       "      <td>16.175008</td>\n",
       "      <td>0.780382</td>\n",
       "      <td>0.487849</td>\n",
       "    </tr>\n",
       "    <tr>\n",
       "      <th>min</th>\n",
       "      <td>0.000000</td>\n",
       "      <td>47.432000</td>\n",
       "      <td>320.942611</td>\n",
       "      <td>0.352000</td>\n",
       "      <td>129.000000</td>\n",
       "      <td>181.483754</td>\n",
       "      <td>2.200000</td>\n",
       "      <td>0.738000</td>\n",
       "      <td>1.450000</td>\n",
       "      <td>0.000000</td>\n",
       "    </tr>\n",
       "    <tr>\n",
       "      <th>25%</th>\n",
       "      <td>6.093092</td>\n",
       "      <td>176.850538</td>\n",
       "      <td>15666.690297</td>\n",
       "      <td>6.127421</td>\n",
       "      <td>307.699498</td>\n",
       "      <td>365.734414</td>\n",
       "      <td>12.065801</td>\n",
       "      <td>55.844536</td>\n",
       "      <td>3.439711</td>\n",
       "      <td>0.000000</td>\n",
       "    </tr>\n",
       "    <tr>\n",
       "      <th>50%</th>\n",
       "      <td>7.036752</td>\n",
       "      <td>196.967627</td>\n",
       "      <td>20927.833607</td>\n",
       "      <td>7.130299</td>\n",
       "      <td>333.073546</td>\n",
       "      <td>421.884968</td>\n",
       "      <td>14.218338</td>\n",
       "      <td>66.622485</td>\n",
       "      <td>3.955028</td>\n",
       "      <td>0.000000</td>\n",
       "    </tr>\n",
       "    <tr>\n",
       "      <th>75%</th>\n",
       "      <td>8.062066</td>\n",
       "      <td>216.667456</td>\n",
       "      <td>27332.762127</td>\n",
       "      <td>8.114887</td>\n",
       "      <td>359.950170</td>\n",
       "      <td>481.792304</td>\n",
       "      <td>16.557652</td>\n",
       "      <td>77.337473</td>\n",
       "      <td>4.500320</td>\n",
       "      <td>1.000000</td>\n",
       "    </tr>\n",
       "    <tr>\n",
       "      <th>max</th>\n",
       "      <td>14.000000</td>\n",
       "      <td>323.124000</td>\n",
       "      <td>61227.196008</td>\n",
       "      <td>13.127000</td>\n",
       "      <td>481.030642</td>\n",
       "      <td>753.342620</td>\n",
       "      <td>28.300000</td>\n",
       "      <td>124.000000</td>\n",
       "      <td>6.739000</td>\n",
       "      <td>1.000000</td>\n",
       "    </tr>\n",
       "  </tbody>\n",
       "</table>\n",
       "</div>"
      ],
      "text/plain": [
       "                ph     Hardness        Solids  Chloramines      Sulfate  \\\n",
       "count  2785.000000  3276.000000   3276.000000  3276.000000  2495.000000   \n",
       "mean      7.080795   196.369496  22014.092526     7.122277   333.775777   \n",
       "std       1.594320    32.879761   8768.570828     1.583085    41.416840   \n",
       "min       0.000000    47.432000    320.942611     0.352000   129.000000   \n",
       "25%       6.093092   176.850538  15666.690297     6.127421   307.699498   \n",
       "50%       7.036752   196.967627  20927.833607     7.130299   333.073546   \n",
       "75%       8.062066   216.667456  27332.762127     8.114887   359.950170   \n",
       "max      14.000000   323.124000  61227.196008    13.127000   481.030642   \n",
       "\n",
       "       Conductivity  Organic_carbon  Trihalomethanes    Turbidity   Potability  \n",
       "count   3276.000000     3276.000000      3114.000000  3276.000000  3276.000000  \n",
       "mean     426.205111       14.284970        66.396293     3.966786     0.390110  \n",
       "std       80.824064        3.308162        16.175008     0.780382     0.487849  \n",
       "min      181.483754        2.200000         0.738000     1.450000     0.000000  \n",
       "25%      365.734414       12.065801        55.844536     3.439711     0.000000  \n",
       "50%      421.884968       14.218338        66.622485     3.955028     0.000000  \n",
       "75%      481.792304       16.557652        77.337473     4.500320     1.000000  \n",
       "max      753.342620       28.300000       124.000000     6.739000     1.000000  "
      ]
     },
     "execution_count": 5,
     "metadata": {},
     "output_type": "execute_result"
    }
   ],
   "source": [
    "data.describe()"
   ]
  },
  {
   "cell_type": "markdown",
   "id": "0a3d683e",
   "metadata": {
    "papermill": {
     "duration": 0.009288,
     "end_time": "2024-01-07T03:24:09.459745",
     "exception": false,
     "start_time": "2024-01-07T03:24:09.450457",
     "status": "completed"
    },
    "tags": []
   },
   "source": [
    "Find the records with missing values and remove them"
   ]
  },
  {
   "cell_type": "code",
   "execution_count": 6,
   "id": "aac7026e",
   "metadata": {
    "execution": {
     "iopub.execute_input": "2024-01-07T03:24:09.480306Z",
     "iopub.status.busy": "2024-01-07T03:24:09.479979Z",
     "iopub.status.idle": "2024-01-07T03:24:09.487657Z",
     "shell.execute_reply": "2024-01-07T03:24:09.486687Z"
    },
    "papermill": {
     "duration": 0.02043,
     "end_time": "2024-01-07T03:24:09.489699",
     "exception": false,
     "start_time": "2024-01-07T03:24:09.469269",
     "status": "completed"
    },
    "tags": []
   },
   "outputs": [
    {
     "data": {
      "text/plain": [
       "ph                 491\n",
       "Hardness             0\n",
       "Solids               0\n",
       "Chloramines          0\n",
       "Sulfate            781\n",
       "Conductivity         0\n",
       "Organic_carbon       0\n",
       "Trihalomethanes    162\n",
       "Turbidity            0\n",
       "Potability           0\n",
       "dtype: int64"
      ]
     },
     "execution_count": 6,
     "metadata": {},
     "output_type": "execute_result"
    }
   ],
   "source": [
    "data.isnull().sum()\n"
   ]
  },
  {
   "cell_type": "code",
   "execution_count": 7,
   "id": "18dc0768",
   "metadata": {
    "execution": {
     "iopub.execute_input": "2024-01-07T03:24:09.510133Z",
     "iopub.status.busy": "2024-01-07T03:24:09.509770Z",
     "iopub.status.idle": "2024-01-07T03:24:09.520983Z",
     "shell.execute_reply": "2024-01-07T03:24:09.520226Z"
    },
    "papermill": {
     "duration": 0.023555,
     "end_time": "2024-01-07T03:24:09.522758",
     "exception": false,
     "start_time": "2024-01-07T03:24:09.499203",
     "status": "completed"
    },
    "tags": []
   },
   "outputs": [
    {
     "data": {
      "text/plain": [
       "ph                 0\n",
       "Hardness           0\n",
       "Solids             0\n",
       "Chloramines        0\n",
       "Sulfate            0\n",
       "Conductivity       0\n",
       "Organic_carbon     0\n",
       "Trihalomethanes    0\n",
       "Turbidity          0\n",
       "Potability         0\n",
       "dtype: int64"
      ]
     },
     "execution_count": 7,
     "metadata": {},
     "output_type": "execute_result"
    }
   ],
   "source": [
    "data = data.dropna()\n",
    "data.isnull().sum()\n"
   ]
  },
  {
   "cell_type": "markdown",
   "id": "e42c4e1f",
   "metadata": {
    "papermill": {
     "duration": 0.050265,
     "end_time": "2024-01-07T03:24:09.582235",
     "exception": false,
     "start_time": "2024-01-07T03:24:09.531970",
     "status": "completed"
    },
    "tags": []
   },
   "source": []
  },
  {
   "cell_type": "markdown",
   "id": "dac3fc56",
   "metadata": {
    "papermill": {
     "duration": 0.008719,
     "end_time": "2024-01-07T03:24:09.599947",
     "exception": false,
     "start_time": "2024-01-07T03:24:09.591228",
     "status": "completed"
    },
    "tags": []
   },
   "source": [
    "# **Step 2: Data Visualization**"
   ]
  },
  {
   "cell_type": "markdown",
   "id": "a6910741",
   "metadata": {
    "papermill": {
     "duration": 0.008589,
     "end_time": "2024-01-07T03:24:09.617430",
     "exception": false,
     "start_time": "2024-01-07T03:24:09.608841",
     "status": "completed"
    },
    "tags": []
   },
   "source": [
    "Visualize the dataset for potability\n",
    "\n",
    "Indicates if water is safe for human consumption where 1 means Potable and 0 means Not potable."
   ]
  },
  {
   "cell_type": "code",
   "execution_count": 8,
   "id": "e9daddf7",
   "metadata": {
    "execution": {
     "iopub.execute_input": "2024-01-07T03:24:09.636660Z",
     "iopub.status.busy": "2024-01-07T03:24:09.636099Z",
     "iopub.status.idle": "2024-01-07T03:24:09.781716Z",
     "shell.execute_reply": "2024-01-07T03:24:09.780698Z"
    },
    "papermill": {
     "duration": 0.157379,
     "end_time": "2024-01-07T03:24:09.783560",
     "exception": false,
     "start_time": "2024-01-07T03:24:09.626181",
     "status": "completed"
    },
    "tags": []
   },
   "outputs": [
    {
     "data": {
      "image/png": "[encoded data removed]",
      "text/plain": [
       "<Figure size 500x500 with 1 Axes>"
      ]
     },
     "metadata": {},
     "output_type": "display_data"
    }
   ],
   "source": [
    "\n",
    "plt.figure(figsize=(5, 5))\n",
    "colors = ['red', 'blue'] \n",
    "sns.countplot(x=data[\"Potability\"], palette=colors)\n",
    "plt.xticks(ticks=[0, 1], labels=['Not Potable', 'Potable'])\n",
    "plt.show()"
   ]
  },
  {
   "cell_type": "markdown",
   "id": "71a4f80d",
   "metadata": {
    "papermill": {
     "duration": 0.010002,
     "end_time": "2024-01-07T03:24:09.805630",
     "exception": false,
     "start_time": "2024-01-07T03:24:09.795628",
     "status": "completed"
    },
    "tags": []
   },
   "source": [
    "Correlation is a statistical measure that quantifies the extent to which two variables change together. In other words, it assesses the strength and direction of a linear relationship between two numerical variables. The correlation coefficient ranges from -1 to 1, where:\n",
    "\n",
    "* 1 indicates a perfect positive correlation (as one variable increases, the other also increases)\n",
    "* -1 indicates a perfect negative correlation (as one variable increases, the other decreases)\n",
    "* 0 indicates no linear correlation.\n",
    "\n",
    "corr() function privides correlation between the features in dataset."
   ]
  },
  {
   "cell_type": "code",
   "execution_count": 9,
   "id": "b967f3bf",
   "metadata": {
    "execution": {
     "iopub.execute_input": "2024-01-07T03:24:09.826033Z",
     "iopub.status.busy": "2024-01-07T03:24:09.825335Z",
     "iopub.status.idle": "2024-01-07T03:24:09.841648Z",
     "shell.execute_reply": "2024-01-07T03:24:09.840921Z"
    },
    "papermill": {
     "duration": 0.028305,
     "end_time": "2024-01-07T03:24:09.843189",
     "exception": false,
     "start_time": "2024-01-07T03:24:09.814884",
     "status": "completed"
    },
    "tags": []
   },
   "outputs": [
    {
     "data": {
      "text/html": [
       "<div>\n",
       "<style scoped>\n",
       "    .dataframe tbody tr th:only-of-type {\n",
       "        vertical-align: middle;\n",
       "    }\n",
       "\n",
       "    .dataframe tbody tr th {\n",
       "        vertical-align: top;\n",
       "    }\n",
       "\n",
       "    .dataframe thead th {\n",
       "        text-align: right;\n",
       "    }\n",
       "</style>\n",
       "<table border=\"1\" class=\"dataframe\">\n",
       "  <thead>\n",
       "    <tr style=\"text-align: right;\">\n",
       "      <th></th>\n",
       "      <th>ph</th>\n",
       "      <th>Hardness</th>\n",
       "      <th>Solids</th>\n",
       "      <th>Chloramines</th>\n",
       "      <th>Sulfate</th>\n",
       "      <th>Conductivity</th>\n",
       "      <th>Organic_carbon</th>\n",
       "      <th>Trihalomethanes</th>\n",
       "      <th>Turbidity</th>\n",
       "      <th>Potability</th>\n",
       "    </tr>\n",
       "  </thead>\n",
       "  <tbody>\n",
       "    <tr>\n",
       "      <th>ph</th>\n",
       "      <td>1.000000</td>\n",
       "      <td>0.108948</td>\n",
       "      <td>-0.087615</td>\n",
       "      <td>-0.024768</td>\n",
       "      <td>0.010524</td>\n",
       "      <td>0.014128</td>\n",
       "      <td>0.028375</td>\n",
       "      <td>0.018278</td>\n",
       "      <td>-0.035849</td>\n",
       "      <td>0.014530</td>\n",
       "    </tr>\n",
       "    <tr>\n",
       "      <th>Hardness</th>\n",
       "      <td>0.108948</td>\n",
       "      <td>1.000000</td>\n",
       "      <td>-0.053269</td>\n",
       "      <td>-0.022685</td>\n",
       "      <td>-0.108521</td>\n",
       "      <td>0.011731</td>\n",
       "      <td>0.013224</td>\n",
       "      <td>-0.015400</td>\n",
       "      <td>-0.034831</td>\n",
       "      <td>-0.001505</td>\n",
       "    </tr>\n",
       "    <tr>\n",
       "      <th>Solids</th>\n",
       "      <td>-0.087615</td>\n",
       "      <td>-0.053269</td>\n",
       "      <td>1.000000</td>\n",
       "      <td>-0.051789</td>\n",
       "      <td>-0.162769</td>\n",
       "      <td>-0.005198</td>\n",
       "      <td>-0.005484</td>\n",
       "      <td>-0.015668</td>\n",
       "      <td>0.019409</td>\n",
       "      <td>0.040674</td>\n",
       "    </tr>\n",
       "    <tr>\n",
       "      <th>Chloramines</th>\n",
       "      <td>-0.024768</td>\n",
       "      <td>-0.022685</td>\n",
       "      <td>-0.051789</td>\n",
       "      <td>1.000000</td>\n",
       "      <td>0.006254</td>\n",
       "      <td>-0.028277</td>\n",
       "      <td>-0.023808</td>\n",
       "      <td>0.014990</td>\n",
       "      <td>0.013137</td>\n",
       "      <td>0.020784</td>\n",
       "    </tr>\n",
       "    <tr>\n",
       "      <th>Sulfate</th>\n",
       "      <td>0.010524</td>\n",
       "      <td>-0.108521</td>\n",
       "      <td>-0.162769</td>\n",
       "      <td>0.006254</td>\n",
       "      <td>1.000000</td>\n",
       "      <td>-0.016192</td>\n",
       "      <td>0.026776</td>\n",
       "      <td>-0.023347</td>\n",
       "      <td>-0.009934</td>\n",
       "      <td>-0.015303</td>\n",
       "    </tr>\n",
       "    <tr>\n",
       "      <th>Conductivity</th>\n",
       "      <td>0.014128</td>\n",
       "      <td>0.011731</td>\n",
       "      <td>-0.005198</td>\n",
       "      <td>-0.028277</td>\n",
       "      <td>-0.016192</td>\n",
       "      <td>1.000000</td>\n",
       "      <td>0.015647</td>\n",
       "      <td>0.004888</td>\n",
       "      <td>0.012495</td>\n",
       "      <td>-0.015496</td>\n",
       "    </tr>\n",
       "    <tr>\n",
       "      <th>Organic_carbon</th>\n",
       "      <td>0.028375</td>\n",
       "      <td>0.013224</td>\n",
       "      <td>-0.005484</td>\n",
       "      <td>-0.023808</td>\n",
       "      <td>0.026776</td>\n",
       "      <td>0.015647</td>\n",
       "      <td>1.000000</td>\n",
       "      <td>-0.005667</td>\n",
       "      <td>-0.015428</td>\n",
       "      <td>-0.015567</td>\n",
       "    </tr>\n",
       "    <tr>\n",
       "      <th>Trihalomethanes</th>\n",
       "      <td>0.018278</td>\n",
       "      <td>-0.015400</td>\n",
       "      <td>-0.015668</td>\n",
       "      <td>0.014990</td>\n",
       "      <td>-0.023347</td>\n",
       "      <td>0.004888</td>\n",
       "      <td>-0.005667</td>\n",
       "      <td>1.000000</td>\n",
       "      <td>-0.020497</td>\n",
       "      <td>0.009244</td>\n",
       "    </tr>\n",
       "    <tr>\n",
       "      <th>Turbidity</th>\n",
       "      <td>-0.035849</td>\n",
       "      <td>-0.034831</td>\n",
       "      <td>0.019409</td>\n",
       "      <td>0.013137</td>\n",
       "      <td>-0.009934</td>\n",
       "      <td>0.012495</td>\n",
       "      <td>-0.015428</td>\n",
       "      <td>-0.020497</td>\n",
       "      <td>1.000000</td>\n",
       "      <td>0.022682</td>\n",
       "    </tr>\n",
       "    <tr>\n",
       "      <th>Potability</th>\n",
       "      <td>0.014530</td>\n",
       "      <td>-0.001505</td>\n",
       "      <td>0.040674</td>\n",
       "      <td>0.020784</td>\n",
       "      <td>-0.015303</td>\n",
       "      <td>-0.015496</td>\n",
       "      <td>-0.015567</td>\n",
       "      <td>0.009244</td>\n",
       "      <td>0.022682</td>\n",
       "      <td>1.000000</td>\n",
       "    </tr>\n",
       "  </tbody>\n",
       "</table>\n",
       "</div>"
      ],
      "text/plain": [
       "                       ph  Hardness    Solids  Chloramines   Sulfate  \\\n",
       "ph               1.000000  0.108948 -0.087615    -0.024768  0.010524   \n",
       "Hardness         0.108948  1.000000 -0.053269    -0.022685 -0.108521   \n",
       "Solids          -0.087615 -0.053269  1.000000    -0.051789 -0.162769   \n",
       "Chloramines     -0.024768 -0.022685 -0.051789     1.000000  0.006254   \n",
       "Sulfate          0.010524 -0.108521 -0.162769     0.006254  1.000000   \n",
       "Conductivity     0.014128  0.011731 -0.005198    -0.028277 -0.016192   \n",
       "Organic_carbon   0.028375  0.013224 -0.005484    -0.023808  0.026776   \n",
       "Trihalomethanes  0.018278 -0.015400 -0.015668     0.014990 -0.023347   \n",
       "Turbidity       -0.035849 -0.034831  0.019409     0.013137 -0.009934   \n",
       "Potability       0.014530 -0.001505  0.040674     0.020784 -0.015303   \n",
       "\n",
       "                 Conductivity  Organic_carbon  Trihalomethanes  Turbidity  \\\n",
       "ph                   0.014128        0.028375         0.018278  -0.035849   \n",
       "Hardness             0.011731        0.013224        -0.015400  -0.034831   \n",
       "Solids              -0.005198       -0.005484        -0.015668   0.019409   \n",
       "Chloramines         -0.028277       -0.023808         0.014990   0.013137   \n",
       "Sulfate             -0.016192        0.026776        -0.023347  -0.009934   \n",
       "Conductivity         1.000000        0.015647         0.004888   0.012495   \n",
       "Organic_carbon       0.015647        1.000000        -0.005667  -0.015428   \n",
       "Trihalomethanes      0.004888       -0.005667         1.000000  -0.020497   \n",
       "Turbidity            0.012495       -0.015428        -0.020497   1.000000   \n",
       "Potability          -0.015496       -0.015567         0.009244   0.022682   \n",
       "\n",
       "                 Potability  \n",
       "ph                 0.014530  \n",
       "Hardness          -0.001505  \n",
       "Solids             0.040674  \n",
       "Chloramines        0.020784  \n",
       "Sulfate           -0.015303  \n",
       "Conductivity      -0.015496  \n",
       "Organic_carbon    -0.015567  \n",
       "Trihalomethanes    0.009244  \n",
       "Turbidity          0.022682  \n",
       "Potability         1.000000  "
      ]
     },
     "execution_count": 9,
     "metadata": {},
     "output_type": "execute_result"
    }
   ],
   "source": [
    "data.corr()"
   ]
  },
  {
   "cell_type": "code",
   "execution_count": 10,
   "id": "fca5ad3b",
   "metadata": {
    "execution": {
     "iopub.execute_input": "2024-01-07T03:24:09.864070Z",
     "iopub.status.busy": "2024-01-07T03:24:09.863368Z",
     "iopub.status.idle": "2024-01-07T03:24:10.357404Z",
     "shell.execute_reply": "2024-01-07T03:24:10.356644Z"
    },
    "papermill": {
     "duration": 0.506447,
     "end_time": "2024-01-07T03:24:10.359398",
     "exception": false,
     "start_time": "2024-01-07T03:24:09.852951",
     "status": "completed"
    },
    "tags": []
   },
   "outputs": [
    {
     "data": {
      "image/png": "[encoded data removed]",
      "text/plain": [
       "<Figure size 2000x1000 with 2 Axes>"
      ]
     },
     "metadata": {},
     "output_type": "display_data"
    }
   ],
   "source": [
    "plt.figure(figsize=(20,10))\n",
    "sns.heatmap(data.corr(), cmap='Blues', annot=True)\n",
    "plt.show()"
   ]
  },
  {
   "cell_type": "markdown",
   "id": "92cdd2a4",
   "metadata": {
    "papermill": {
     "duration": 0.010324,
     "end_time": "2024-01-07T03:24:10.380709",
     "exception": false,
     "start_time": "2024-01-07T03:24:10.370385",
     "status": "completed"
    },
    "tags": []
   },
   "source": [
    "Lets try to predict water potability using simpler models like logistic regression and Decision tree"
   ]
  },
  {
   "cell_type": "markdown",
   "id": "924d171c",
   "metadata": {
    "papermill": {
     "duration": 0.009977,
     "end_time": "2024-01-07T03:24:10.401762",
     "exception": false,
     "start_time": "2024-01-07T03:24:10.391785",
     "status": "completed"
    },
    "tags": []
   },
   "source": [
    "# **Step 3 : Using Machine Learning Model**"
   ]
  },
  {
   "cell_type": "markdown",
   "id": "3d070074",
   "metadata": {
    "papermill": {
     "duration": 0.009996,
     "end_time": "2024-01-07T03:24:10.421950",
     "exception": false,
     "start_time": "2024-01-07T03:24:10.411954",
     "status": "completed"
    },
    "tags": []
   },
   "source": [
    "**Logistic Regression**\n",
    "\n",
    "Logistic Regression is a binary classification algorithm used to predict the probability of an instance belonging to a particular class. It models the relationship between independent variables and the log-odds of the dependent variable, employing the logistic function to ensure predicted probabilities lie between 0 and 1."
   ]
  },
  {
   "cell_type": "code",
   "execution_count": 11,
   "id": "eb7e6664",
   "metadata": {
    "execution": {
     "iopub.execute_input": "2024-01-07T03:24:10.445244Z",
     "iopub.status.busy": "2024-01-07T03:24:10.444565Z",
     "iopub.status.idle": "2024-01-07T03:24:10.735814Z",
     "shell.execute_reply": "2024-01-07T03:24:10.734838Z"
    },
    "papermill": {
     "duration": 0.306045,
     "end_time": "2024-01-07T03:24:10.738147",
     "exception": false,
     "start_time": "2024-01-07T03:24:10.432102",
     "status": "completed"
    },
    "tags": []
   },
   "outputs": [],
   "source": [
    "from sklearn.model_selection import train_test_split\n",
    "from sklearn.linear_model import LogisticRegression\n",
    "from sklearn.metrics import confusion_matrix,classification_report"
   ]
  },
  {
   "cell_type": "code",
   "execution_count": 12,
   "id": "35e21e6b",
   "metadata": {
    "execution": {
     "iopub.execute_input": "2024-01-07T03:24:10.762000Z",
     "iopub.status.busy": "2024-01-07T03:24:10.761632Z",
     "iopub.status.idle": "2024-01-07T03:24:10.768381Z",
     "shell.execute_reply": "2024-01-07T03:24:10.767395Z"
    },
    "papermill": {
     "duration": 0.020581,
     "end_time": "2024-01-07T03:24:10.770124",
     "exception": false,
     "start_time": "2024-01-07T03:24:10.749543",
     "status": "completed"
    },
    "tags": []
   },
   "outputs": [],
   "source": [
    "X = data.iloc[:,:-1] #independent variables first to second last column\n",
    "y = data.iloc[:,-1] # dependent variable last column i.e. Portability"
   ]
  },
  {
   "cell_type": "code",
   "execution_count": 13,
   "id": "83ea4fee",
   "metadata": {
    "execution": {
     "iopub.execute_input": "2024-01-07T03:24:10.795318Z",
     "iopub.status.busy": "2024-01-07T03:24:10.794163Z",
     "iopub.status.idle": "2024-01-07T03:24:10.802043Z",
     "shell.execute_reply": "2024-01-07T03:24:10.801104Z"
    },
    "papermill": {
     "duration": 0.022525,
     "end_time": "2024-01-07T03:24:10.803901",
     "exception": false,
     "start_time": "2024-01-07T03:24:10.781376",
     "status": "completed"
    },
    "tags": []
   },
   "outputs": [
    {
     "data": {
      "text/plain": [
       "3       0\n",
       "4       0\n",
       "5       0\n",
       "6       0\n",
       "7       0\n",
       "       ..\n",
       "3267    1\n",
       "3268    1\n",
       "3269    1\n",
       "3270    1\n",
       "3271    1\n",
       "Name: Potability, Length: 2011, dtype: int64"
      ]
     },
     "execution_count": 13,
     "metadata": {},
     "output_type": "execute_result"
    }
   ],
   "source": [
    "y\n"
   ]
  },
  {
   "cell_type": "code",
   "execution_count": 14,
   "id": "a597f380",
   "metadata": {
    "execution": {
     "iopub.execute_input": "2024-01-07T03:24:10.828446Z",
     "iopub.status.busy": "2024-01-07T03:24:10.827785Z",
     "iopub.status.idle": "2024-01-07T03:24:10.867795Z",
     "shell.execute_reply": "2024-01-07T03:24:10.866805Z"
    },
    "papermill": {
     "duration": 0.054876,
     "end_time": "2024-01-07T03:24:10.870090",
     "exception": false,
     "start_time": "2024-01-07T03:24:10.815214",
     "status": "completed"
    },
    "tags": []
   },
   "outputs": [],
   "source": [
    "X_train, X_test, y_train, y_test = train_test_split(X, y, test_size=0.2, random_state=42)\n",
    "model = LogisticRegression()\n",
    "model.fit(X_train, y_train)\n",
    "lr_pred = model.predict(X_test)"
   ]
  },
  {
   "cell_type": "markdown",
   "id": "f9bed285",
   "metadata": {
    "papermill": {
     "duration": 0.014751,
     "end_time": "2024-01-07T03:24:10.899569",
     "exception": false,
     "start_time": "2024-01-07T03:24:10.884818",
     "status": "completed"
    },
    "tags": []
   },
   "source": [
    "Evaluate the model"
   ]
  },
  {
   "cell_type": "code",
   "execution_count": 15,
   "id": "24a56cb9",
   "metadata": {
    "execution": {
     "iopub.execute_input": "2024-01-07T03:24:10.932328Z",
     "iopub.status.busy": "2024-01-07T03:24:10.931236Z",
     "iopub.status.idle": "2024-01-07T03:24:11.053929Z",
     "shell.execute_reply": "2024-01-07T03:24:11.053207Z"
    },
    "papermill": {
     "duration": 0.141381,
     "end_time": "2024-01-07T03:24:11.056076",
     "exception": false,
     "start_time": "2024-01-07T03:24:10.914695",
     "status": "completed"
    },
    "tags": []
   },
   "outputs": [
    {
     "data": {
      "image/png": "[encoded data removed]",
      "text/plain": [
       "<Figure size 640x480 with 1 Axes>"
      ]
     },
     "metadata": {},
     "output_type": "display_data"
    }
   ],
   "source": [
    "lr_matrix= confusion_matrix(y_test, lr_pred)\n",
    "\n",
    "sns.heatmap(lr_matrix, annot=True, fmt='d', cmap='Blues', cbar=False,\n",
    "            \n",
    "            xticklabels=['Not Portable', 'Portable'],yticklabels=['Not Portable', 'Portable'],)\n",
    "plt.xlabel('Predicted Label')\n",
    "plt.ylabel('True Label')\n",
    "plt.title('Confusion Matrix')\n",
    "plt.show()"
   ]
  },
  {
   "cell_type": "code",
   "execution_count": 16,
   "id": "b4dc169d",
   "metadata": {
    "execution": {
     "iopub.execute_input": "2024-01-07T03:24:11.087029Z",
     "iopub.status.busy": "2024-01-07T03:24:11.086646Z",
     "iopub.status.idle": "2024-01-07T03:24:11.099391Z",
     "shell.execute_reply": "2024-01-07T03:24:11.098697Z"
    },
    "papermill": {
     "duration": 0.03057,
     "end_time": "2024-01-07T03:24:11.101283",
     "exception": false,
     "start_time": "2024-01-07T03:24:11.070713",
     "status": "completed"
    },
    "tags": []
   },
   "outputs": [
    {
     "name": "stdout",
     "output_type": "stream",
     "text": [
      "              precision    recall  f1-score   support\n",
      "\n",
      "           0       0.57      1.00      0.73       231\n",
      "           1       0.00      0.00      0.00       172\n",
      "\n",
      "    accuracy                           0.57       403\n",
      "   macro avg       0.29      0.50      0.36       403\n",
      "weighted avg       0.33      0.57      0.42       403\n",
      "\n"
     ]
    }
   ],
   "source": [
    "print(classification_report(y_test, lr_pred,  zero_division=0))"
   ]
  },
  {
   "cell_type": "markdown",
   "id": "02bc69f0",
   "metadata": {
    "papermill": {
     "duration": 0.013156,
     "end_time": "2024-01-07T03:24:11.129114",
     "exception": false,
     "start_time": "2024-01-07T03:24:11.115958",
     "status": "completed"
    },
    "tags": []
   },
   "source": [
    "**Decision Tree**\n",
    "\n",
    "Decision tree in machine learning is a predictive model that maps features to outcomes by recursively splitting data based on attribute values. It organizes decisions in a tree-like structure, making it easy to interpret and implement. Nodes represent decision points, branches represent outcomes, and leaves contain final predictions or classifications."
   ]
  },
  {
   "cell_type": "code",
   "execution_count": 17,
   "id": "c1c62810",
   "metadata": {
    "execution": {
     "iopub.execute_input": "2024-01-07T03:24:11.153211Z",
     "iopub.status.busy": "2024-01-07T03:24:11.152832Z",
     "iopub.status.idle": "2024-01-07T03:24:11.236689Z",
     "shell.execute_reply": "2024-01-07T03:24:11.235929Z"
    },
    "papermill": {
     "duration": 0.098363,
     "end_time": "2024-01-07T03:24:11.238842",
     "exception": false,
     "start_time": "2024-01-07T03:24:11.140479",
     "status": "completed"
    },
    "tags": []
   },
   "outputs": [],
   "source": [
    "from sklearn.tree import DecisionTreeClassifier"
   ]
  },
  {
   "cell_type": "code",
   "execution_count": 18,
   "id": "a2137ebc",
   "metadata": {
    "execution": {
     "iopub.execute_input": "2024-01-07T03:24:11.263807Z",
     "iopub.status.busy": "2024-01-07T03:24:11.263173Z",
     "iopub.status.idle": "2024-01-07T03:24:11.289730Z",
     "shell.execute_reply": "2024-01-07T03:24:11.288892Z"
    },
    "papermill": {
     "duration": 0.041576,
     "end_time": "2024-01-07T03:24:11.292036",
     "exception": false,
     "start_time": "2024-01-07T03:24:11.250460",
     "status": "completed"
    },
    "tags": []
   },
   "outputs": [],
   "source": [
    "clf = DecisionTreeClassifier()\n",
    "clf.fit(X_train, y_train)\n",
    "\n",
    "clf_pred = clf.predict(X_test)"
   ]
  },
  {
   "cell_type": "code",
   "execution_count": 19,
   "id": "372d8aee",
   "metadata": {
    "execution": {
     "iopub.execute_input": "2024-01-07T03:24:11.316606Z",
     "iopub.status.busy": "2024-01-07T03:24:11.316120Z",
     "iopub.status.idle": "2024-01-07T03:24:11.424265Z",
     "shell.execute_reply": "2024-01-07T03:24:11.423535Z"
    },
    "papermill": {
     "duration": 0.12282,
     "end_time": "2024-01-07T03:24:11.426316",
     "exception": false,
     "start_time": "2024-01-07T03:24:11.303496",
     "status": "completed"
    },
    "tags": []
   },
   "outputs": [
    {
     "data": {
      "image/png": "[encoded data removed]",
      "text/plain": [
       "<Figure size 640x480 with 1 Axes>"
      ]
     },
     "metadata": {},
     "output_type": "display_data"
    }
   ],
   "source": [
    "clf_matrix= confusion_matrix(y_test, clf_pred)\n",
    "\n",
    "sns.heatmap(clf_matrix, annot=True, fmt='d', cmap='Blues', cbar=False,\n",
    "            \n",
    "            xticklabels=['Not Portable', 'Portable'],yticklabels=['Not Portable', 'Portable'],)\n",
    "plt.xlabel('Predicted Label')\n",
    "plt.ylabel('True Label')\n",
    "plt.title('Confusion Matrix')\n",
    "plt.show()"
   ]
  },
  {
   "cell_type": "code",
   "execution_count": 20,
   "id": "634079f5",
   "metadata": {
    "execution": {
     "iopub.execute_input": "2024-01-07T03:24:11.459724Z",
     "iopub.status.busy": "2024-01-07T03:24:11.459011Z",
     "iopub.status.idle": "2024-01-07T03:24:11.471173Z",
     "shell.execute_reply": "2024-01-07T03:24:11.470529Z"
    },
    "papermill": {
     "duration": 0.031089,
     "end_time": "2024-01-07T03:24:11.473352",
     "exception": false,
     "start_time": "2024-01-07T03:24:11.442263",
     "status": "completed"
    },
    "tags": []
   },
   "outputs": [
    {
     "name": "stdout",
     "output_type": "stream",
     "text": [
      "              precision    recall  f1-score   support\n",
      "\n",
      "           0       0.66      0.73      0.69       231\n",
      "           1       0.58      0.51      0.54       172\n",
      "\n",
      "    accuracy                           0.63       403\n",
      "   macro avg       0.62      0.62      0.62       403\n",
      "weighted avg       0.63      0.63      0.63       403\n",
      "\n"
     ]
    }
   ],
   "source": [
    "print(classification_report(y_test, clf_pred,  zero_division=0))"
   ]
  },
  {
   "cell_type": "markdown",
   "id": "37316465",
   "metadata": {
    "papermill": {
     "duration": 0.013599,
     "end_time": "2024-01-07T03:24:11.502978",
     "exception": false,
     "start_time": "2024-01-07T03:24:11.489379",
     "status": "completed"
    },
    "tags": []
   },
   "source": [
    "Lets try predicting using more complex models like Random Forest Classifier and support vector machines."
   ]
  },
  {
   "cell_type": "markdown",
   "id": "d360fe15",
   "metadata": {
    "papermill": {
     "duration": 0.011525,
     "end_time": "2024-01-07T03:24:11.526774",
     "exception": false,
     "start_time": "2024-01-07T03:24:11.515249",
     "status": "completed"
    },
    "tags": []
   },
   "source": [
    "**Random Forest Classifier**\n",
    "\n",
    "Random Forest Classifier is an ensemble learning algorithm that builds multiple decision trees through bagging and feature randomization. It aggregates their predictions to enhance accuracy and reduce overfitting. Suitable for classification tasks, it delivers robust results by combining diverse trees, each trained on a subset of data and features."
   ]
  },
  {
   "cell_type": "code",
   "execution_count": 21,
   "id": "b4c0cfc8",
   "metadata": {
    "execution": {
     "iopub.execute_input": "2024-01-07T03:24:11.552492Z",
     "iopub.status.busy": "2024-01-07T03:24:11.551895Z",
     "iopub.status.idle": "2024-01-07T03:24:11.607713Z",
     "shell.execute_reply": "2024-01-07T03:24:11.606883Z"
    },
    "papermill": {
     "duration": 0.070861,
     "end_time": "2024-01-07T03:24:11.609823",
     "exception": false,
     "start_time": "2024-01-07T03:24:11.538962",
     "status": "completed"
    },
    "tags": []
   },
   "outputs": [],
   "source": [
    "from sklearn.ensemble import RandomForestClassifier"
   ]
  },
  {
   "cell_type": "code",
   "execution_count": 22,
   "id": "3ba1af02",
   "metadata": {
    "execution": {
     "iopub.execute_input": "2024-01-07T03:24:11.633750Z",
     "iopub.status.busy": "2024-01-07T03:24:11.633466Z",
     "iopub.status.idle": "2024-01-07T03:24:12.170092Z",
     "shell.execute_reply": "2024-01-07T03:24:12.169163Z"
    },
    "papermill": {
     "duration": 0.551028,
     "end_time": "2024-01-07T03:24:12.172493",
     "exception": false,
     "start_time": "2024-01-07T03:24:11.621465",
     "status": "completed"
    },
    "tags": []
   },
   "outputs": [],
   "source": [
    "rf_classifier = RandomForestClassifier(n_estimators=100, random_state=0)\n",
    "rf_classifier.fit(X_train, y_train)\n",
    "rf_pred = rf_classifier.predict(X_test)\n",
    "\n"
   ]
  },
  {
   "cell_type": "code",
   "execution_count": 23,
   "id": "75cc9f5a",
   "metadata": {
    "execution": {
     "iopub.execute_input": "2024-01-07T03:24:12.199334Z",
     "iopub.status.busy": "2024-01-07T03:24:12.198914Z",
     "iopub.status.idle": "2024-01-07T03:24:12.327536Z",
     "shell.execute_reply": "2024-01-07T03:24:12.326590Z"
    },
    "papermill": {
     "duration": 0.144394,
     "end_time": "2024-01-07T03:24:12.329970",
     "exception": false,
     "start_time": "2024-01-07T03:24:12.185576",
     "status": "completed"
    },
    "tags": []
   },
   "outputs": [
    {
     "data": {
      "image/png": "[encoded data removed]",
      "text/plain": [
       "<Figure size 640x480 with 1 Axes>"
      ]
     },
     "metadata": {},
     "output_type": "display_data"
    }
   ],
   "source": [
    "rf_matrix = confusion_matrix(y_test, rf_pred)\n",
    "\n",
    "sns.heatmap(rf_matrix, annot=True, fmt='d', cmap='Blues', cbar=False,\n",
    "            \n",
    "            xticklabels=['Not Portable', 'Portable'],yticklabels=['Not Portable', 'Portable'],)\n",
    "plt.xlabel('Predicted Label')\n",
    "plt.ylabel('True Label')\n",
    "plt.title('Confusion Matrix')\n",
    "plt.show()"
   ]
  },
  {
   "cell_type": "code",
   "execution_count": 24,
   "id": "ee109788",
   "metadata": {
    "execution": {
     "iopub.execute_input": "2024-01-07T03:24:12.368627Z",
     "iopub.status.busy": "2024-01-07T03:24:12.368043Z",
     "iopub.status.idle": "2024-01-07T03:24:12.393080Z",
     "shell.execute_reply": "2024-01-07T03:24:12.392267Z"
    },
    "papermill": {
     "duration": 0.047004,
     "end_time": "2024-01-07T03:24:12.395589",
     "exception": false,
     "start_time": "2024-01-07T03:24:12.348585",
     "status": "completed"
    },
    "tags": []
   },
   "outputs": [
    {
     "name": "stdout",
     "output_type": "stream",
     "text": [
      "              precision    recall  f1-score   support\n",
      "\n",
      "           0       0.68      0.88      0.77       231\n",
      "           1       0.74      0.45      0.56       172\n",
      "\n",
      "    accuracy                           0.70       403\n",
      "   macro avg       0.71      0.67      0.67       403\n",
      "weighted avg       0.71      0.70      0.68       403\n",
      "\n"
     ]
    }
   ],
   "source": [
    "print(classification_report(y_test, rf_pred,  zero_division=0))"
   ]
  },
  {
   "cell_type": "markdown",
   "id": "daa0b517",
   "metadata": {
    "papermill": {
     "duration": 0.011946,
     "end_time": "2024-01-07T03:24:12.424069",
     "exception": false,
     "start_time": "2024-01-07T03:24:12.412123",
     "status": "completed"
    },
    "tags": []
   },
   "source": []
  },
  {
   "cell_type": "code",
   "execution_count": null,
   "id": "e88fcc89",
   "metadata": {
    "papermill": {
     "duration": 0.01253,
     "end_time": "2024-01-07T03:24:12.448909",
     "exception": false,
     "start_time": "2024-01-07T03:24:12.436379",
     "status": "completed"
    },
    "tags": []
   },
   "outputs": [],
   "source": []
  },
  {
   "cell_type": "markdown",
   "id": "af3bb5c9",
   "metadata": {
    "papermill": {
     "duration": 0.013033,
     "end_time": "2024-01-07T03:24:12.476827",
     "exception": false,
     "start_time": "2024-01-07T03:24:12.463794",
     "status": "completed"
    },
    "tags": []
   },
   "source": [
    "# **Support Vector Machine**\n"
   ]
  },
  {
   "cell_type": "markdown",
   "id": "e61cf8fc",
   "metadata": {
    "papermill": {
     "duration": 0.012034,
     "end_time": "2024-01-07T03:24:12.501474",
     "exception": false,
     "start_time": "2024-01-07T03:24:12.489440",
     "status": "completed"
    },
    "tags": []
   },
   "source": [
    "Support Vector Machine (SVM) is a powerful supervised machine learning algorithm used for classification and regression tasks. It finds the optimal hyperplane that best separates data into different classes. SVM maximizes the margin between classes and is effective in high-dimensional spaces. It can handle linear and non-linear relationships."
   ]
  },
  {
   "cell_type": "code",
   "execution_count": 25,
   "id": "ab9a3467",
   "metadata": {
    "execution": {
     "iopub.execute_input": "2024-01-07T03:24:12.528085Z",
     "iopub.status.busy": "2024-01-07T03:24:12.527732Z",
     "iopub.status.idle": "2024-01-07T03:24:12.531677Z",
     "shell.execute_reply": "2024-01-07T03:24:12.530802Z"
    },
    "papermill": {
     "duration": 0.019267,
     "end_time": "2024-01-07T03:24:12.533445",
     "exception": false,
     "start_time": "2024-01-07T03:24:12.514178",
     "status": "completed"
    },
    "tags": []
   },
   "outputs": [],
   "source": [
    "from sklearn.svm import SVC"
   ]
  },
  {
   "cell_type": "code",
   "execution_count": 26,
   "id": "e288aca3",
   "metadata": {
    "execution": {
     "iopub.execute_input": "2024-01-07T03:24:12.560600Z",
     "iopub.status.busy": "2024-01-07T03:24:12.560058Z",
     "iopub.status.idle": "2024-01-07T03:27:27.680267Z",
     "shell.execute_reply": "2024-01-07T03:27:27.679122Z"
    },
    "papermill": {
     "duration": 195.135811,
     "end_time": "2024-01-07T03:27:27.682486",
     "exception": false,
     "start_time": "2024-01-07T03:24:12.546675",
     "status": "completed"
    },
    "tags": []
   },
   "outputs": [],
   "source": [
    "svm_classifier = SVC(kernel='linear',degree=3) \n",
    "\n",
    "svm_classifier.fit(X_train, y_train)\n",
    "\n",
    "\n",
    "svm_pred = svm_classifier.predict(X_test)\n"
   ]
  },
  {
   "cell_type": "code",
   "execution_count": 27,
   "id": "d41a3ae9",
   "metadata": {
    "execution": {
     "iopub.execute_input": "2024-01-07T03:27:27.709144Z",
     "iopub.status.busy": "2024-01-07T03:27:27.708765Z",
     "iopub.status.idle": "2024-01-07T03:27:27.820310Z",
     "shell.execute_reply": "2024-01-07T03:27:27.819328Z"
    },
    "papermill": {
     "duration": 0.128131,
     "end_time": "2024-01-07T03:27:27.823501",
     "exception": false,
     "start_time": "2024-01-07T03:27:27.695370",
     "status": "completed"
    },
    "tags": []
   },
   "outputs": [
    {
     "data": {
      "image/png": "[encoded data removed]",
      "text/plain": [
       "<Figure size 640x480 with 1 Axes>"
      ]
     },
     "metadata": {},
     "output_type": "display_data"
    }
   ],
   "source": [
    "svm_matrix = confusion_matrix(y_test, svm_pred)\n",
    "\n",
    "sns.heatmap(svm_matrix, annot=True, fmt='d', cmap='Blues', cbar=False,\n",
    "            \n",
    "            xticklabels=['Not Portable', 'Portable'],yticklabels=['Not Portable', 'Portable'],)\n",
    "plt.xlabel('Predicted Label')\n",
    "plt.ylabel('True Label')\n",
    "plt.title('Confusion Matrix')\n",
    "plt.show()"
   ]
  },
  {
   "cell_type": "code",
   "execution_count": 28,
   "id": "d857ee8d",
   "metadata": {
    "execution": {
     "iopub.execute_input": "2024-01-07T03:27:27.857385Z",
     "iopub.status.busy": "2024-01-07T03:27:27.857080Z",
     "iopub.status.idle": "2024-01-07T03:27:27.869814Z",
     "shell.execute_reply": "2024-01-07T03:27:27.868658Z"
    },
    "papermill": {
     "duration": 0.031355,
     "end_time": "2024-01-07T03:27:27.871550",
     "exception": false,
     "start_time": "2024-01-07T03:27:27.840195",
     "status": "completed"
    },
    "tags": []
   },
   "outputs": [
    {
     "name": "stdout",
     "output_type": "stream",
     "text": [
      "              precision    recall  f1-score   support\n",
      "\n",
      "           0       0.58      0.99      0.73       231\n",
      "           1       0.67      0.02      0.04       172\n",
      "\n",
      "    accuracy                           0.58       403\n",
      "   macro avg       0.62      0.51      0.39       403\n",
      "weighted avg       0.62      0.58      0.44       403\n",
      "\n"
     ]
    }
   ],
   "source": [
    "print(classification_report(y_test, svm_pred,  zero_division=0))"
   ]
  },
  {
   "cell_type": "markdown",
   "id": "289490a7",
   "metadata": {
    "papermill": {
     "duration": 0.013419,
     "end_time": "2024-01-07T03:27:27.901457",
     "exception": false,
     "start_time": "2024-01-07T03:27:27.888038",
     "status": "completed"
    },
    "tags": []
   },
   "source": [
    "# **Conclusion**"
   ]
  },
  {
   "cell_type": "markdown",
   "id": "956e5fa1",
   "metadata": {
    "papermill": {
     "duration": 0.011866,
     "end_time": "2024-01-07T03:27:27.925615",
     "exception": false,
     "start_time": "2024-01-07T03:27:27.913749",
     "status": "completed"
    },
    "tags": []
   },
   "source": [
    "Based on the observation made from the confusion matrix. We need to minimize the number of prediction false predicted as portable but in actual not portable. As this can adverse impact the heath of the consumer.Also we need to choose the model which is able to correctly predict for most number of records.\n",
    "We will use accuracy as the metric to determine the most suitable model for making the prediction."
   ]
  },
  {
   "cell_type": "code",
   "execution_count": 29,
   "id": "3350b9ae",
   "metadata": {
    "execution": {
     "iopub.execute_input": "2024-01-07T03:27:27.952026Z",
     "iopub.status.busy": "2024-01-07T03:27:27.951369Z",
     "iopub.status.idle": "2024-01-07T03:27:28.171556Z",
     "shell.execute_reply": "2024-01-07T03:27:28.170682Z"
    },
    "papermill": {
     "duration": 0.235635,
     "end_time": "2024-01-07T03:27:28.173256",
     "exception": false,
     "start_time": "2024-01-07T03:27:27.937621",
     "status": "completed"
    },
    "tags": []
   },
   "outputs": [
    {
     "name": "stdout",
     "output_type": "stream",
     "text": [
      "          Logistic Regression  Decision Tree  Random Forest  Support Vector\n",
      "Accuracy            57.320099      63.275434      69.727047       57.816377\n"
     ]
    },
    {
     "data": {
      "text/plain": [
       "<Axes: >"
      ]
     },
     "execution_count": 29,
     "metadata": {},
     "output_type": "execute_result"
    },
    {
     "data": {
      "image/png": "[encoded data removed]",
      "text/plain": [
       "<Figure size 640x480 with 1 Axes>"
      ]
     },
     "metadata": {},
     "output_type": "display_data"
    }
   ],
   "source": [
    "from sklearn.metrics import accuracy_score\n",
    "model_scores = {'Logistic Regression': accuracy_score(y_test, lr_pred)*100,\n",
    "'Decision Tree': accuracy_score(y_test, clf_pred)*100,\n",
    "'Random Forest': accuracy_score(y_test, rf_pred)*100,\n",
    "'Support Vector': accuracy_score(y_test, svm_pred)*100}\n",
    "model_compare=pd.DataFrame(model_scores,index=['Accuracy'])\n",
    "print(model_compare)\n",
    "model_compare.T.plot(kind='bar')"
   ]
  },
  {
   "cell_type": "markdown",
   "id": "8d95ebe8",
   "metadata": {
    "papermill": {
     "duration": 0.012006,
     "end_time": "2024-01-07T03:27:28.197933",
     "exception": false,
     "start_time": "2024-01-07T03:27:28.185927",
     "status": "completed"
    },
    "tags": []
   },
   "source": [
    "As you can see the above chart, **Random Forest Classifier** is the most suitable machine learning model for making the prediction with **69.72%**."
   ]
  }
 ],
 "metadata": {
  "kaggle": {
   "accelerator": "none",
   "dataSources": [
    {
     "datasetId": 1292407,
     "sourceId": 2157486,
     "sourceType": "datasetVersion"
    }
   ],
   "dockerImageVersionId": 30626,
   "isGpuEnabled": false,
   "isInternetEnabled": true,
   "language": "python",
   "sourceType": "notebook"
  },
  "kernelspec": {
   "display_name": "Python 3",
   "language": "python",
   "name": "python3"
  },
  "language_info": {
   "codemirror_mode": {
    "name": "ipython",
    "version": 3
   },
   "file_extension": ".py",
   "mimetype": "text/x-python",
   "name": "python",
   "nbconvert_exporter": "python",
   "pygments_lexer": "ipython3",
   "version": "3.10.12"
  },
  "papermill": {
   "default_parameters": {},
   "duration": 204.573978,
   "end_time": "2024-01-07T03:27:28.829791",
   "environment_variables": {},
   "exception": null,
   "input_path": "__notebook__.ipynb",
   "output_path": "__notebook__.ipynb",
   "parameters": {},
   "start_time": "2024-01-07T03:24:04.255813",
   "version": "2.4.0"
  }
 },
 "nbformat": 4,
 "nbformat_minor": 5
}
